{
 "cells": [
  {
   "cell_type": "markdown",
   "metadata": {},
   "source": [
    "# BasketBall Data Prediction Using Advanced DeepLearning"
   ]
  },
  {
   "cell_type": "markdown",
   "metadata": {},
   "source": [
    "**This dataset covers about 30 years of data and has about 400 unique schools. Revealing around 12,000 IDs. Only around 11,000 of those year/team combinations are present, because not every school has a basketball team every year**"
   ]
  },
  {
   "cell_type": "markdown",
   "metadata": {},
   "source": [
    "## Keras Functional API\n",
    "\n",
    "**Importing necessary libraries**"
   ]
  },
  {
   "cell_type": "code",
   "execution_count": 1,
   "metadata": {
    "ExecuteTime": {
     "end_time": "2020-06-28T12:33:34.009276Z",
     "start_time": "2020-06-28T12:33:25.529552Z"
    }
   },
   "outputs": [],
   "source": [
    "import pandas as pd\n",
    "from pandas import read_csv\n",
    "\n",
    "import numpy as np\n",
    "from numpy import unique\n",
    "\n",
    "from matplotlib import pyplot as plt\n",
    "from scipy.special import expit as sigmoid\n",
    "\n",
    "from keras.layers import Input, Dense, Embedding, Flatten\n",
    "from keras.layers import Subtract, Concatenate\n",
    "from keras.models import Model\n",
    "from keras.utils import plot_model"
   ]
  },
  {
   "cell_type": "markdown",
   "metadata": {},
   "source": [
    "**Read Data File**"
   ]
  },
  {
   "cell_type": "code",
   "execution_count": 2,
   "metadata": {
    "ExecuteTime": {
     "end_time": "2020-06-28T12:33:34.405746Z",
     "start_time": "2020-06-28T12:33:34.014603Z"
    }
   },
   "outputs": [
    {
     "data": {
      "text/html": [
       "<div>\n",
       "<style scoped>\n",
       "    .dataframe tbody tr th:only-of-type {\n",
       "        vertical-align: middle;\n",
       "    }\n",
       "\n",
       "    .dataframe tbody tr th {\n",
       "        vertical-align: top;\n",
       "    }\n",
       "\n",
       "    .dataframe thead th {\n",
       "        text-align: right;\n",
       "    }\n",
       "</style>\n",
       "<table border=\"1\" class=\"dataframe\">\n",
       "  <thead>\n",
       "    <tr style=\"text-align: right;\">\n",
       "      <th></th>\n",
       "      <th>season</th>\n",
       "      <th>team_1</th>\n",
       "      <th>team_2</th>\n",
       "      <th>home</th>\n",
       "      <th>score_diff</th>\n",
       "      <th>score_1</th>\n",
       "      <th>score_2</th>\n",
       "      <th>won</th>\n",
       "    </tr>\n",
       "  </thead>\n",
       "  <tbody>\n",
       "    <tr>\n",
       "      <td>0</td>\n",
       "      <td>1985</td>\n",
       "      <td>3745</td>\n",
       "      <td>6664</td>\n",
       "      <td>0</td>\n",
       "      <td>17</td>\n",
       "      <td>81</td>\n",
       "      <td>64</td>\n",
       "      <td>1</td>\n",
       "    </tr>\n",
       "    <tr>\n",
       "      <td>1</td>\n",
       "      <td>1985</td>\n",
       "      <td>126</td>\n",
       "      <td>7493</td>\n",
       "      <td>1</td>\n",
       "      <td>7</td>\n",
       "      <td>77</td>\n",
       "      <td>70</td>\n",
       "      <td>1</td>\n",
       "    </tr>\n",
       "    <tr>\n",
       "      <td>2</td>\n",
       "      <td>1985</td>\n",
       "      <td>288</td>\n",
       "      <td>3593</td>\n",
       "      <td>1</td>\n",
       "      <td>7</td>\n",
       "      <td>63</td>\n",
       "      <td>56</td>\n",
       "      <td>1</td>\n",
       "    </tr>\n",
       "    <tr>\n",
       "      <td>3</td>\n",
       "      <td>1985</td>\n",
       "      <td>1846</td>\n",
       "      <td>9881</td>\n",
       "      <td>1</td>\n",
       "      <td>16</td>\n",
       "      <td>70</td>\n",
       "      <td>54</td>\n",
       "      <td>1</td>\n",
       "    </tr>\n",
       "    <tr>\n",
       "      <td>4</td>\n",
       "      <td>1985</td>\n",
       "      <td>2675</td>\n",
       "      <td>10298</td>\n",
       "      <td>1</td>\n",
       "      <td>12</td>\n",
       "      <td>86</td>\n",
       "      <td>74</td>\n",
       "      <td>1</td>\n",
       "    </tr>\n",
       "  </tbody>\n",
       "</table>\n",
       "</div>"
      ],
      "text/plain": [
       "   season  team_1  team_2  home  score_diff  score_1  score_2  won\n",
       "0    1985    3745    6664     0          17       81       64    1\n",
       "1    1985     126    7493     1           7       77       70    1\n",
       "2    1985     288    3593     1           7       63       56    1\n",
       "3    1985    1846    9881     1          16       70       54    1\n",
       "4    1985    2675   10298     1          12       86       74    1"
      ]
     },
     "execution_count": 2,
     "metadata": {},
     "output_type": "execute_result"
    }
   ],
   "source": [
    "games_season = pd.read_csv('DataSet/games_season.csv')\n",
    "games_season.head()"
   ]
  },
  {
   "cell_type": "code",
   "execution_count": 3,
   "metadata": {
    "ExecuteTime": {
     "end_time": "2020-06-28T12:33:34.446504Z",
     "start_time": "2020-06-28T12:33:34.411186Z"
    }
   },
   "outputs": [
    {
     "data": {
      "text/html": [
       "<div>\n",
       "<style scoped>\n",
       "    .dataframe tbody tr th:only-of-type {\n",
       "        vertical-align: middle;\n",
       "    }\n",
       "\n",
       "    .dataframe tbody tr th {\n",
       "        vertical-align: top;\n",
       "    }\n",
       "\n",
       "    .dataframe thead th {\n",
       "        text-align: right;\n",
       "    }\n",
       "</style>\n",
       "<table border=\"1\" class=\"dataframe\">\n",
       "  <thead>\n",
       "    <tr style=\"text-align: right;\">\n",
       "      <th></th>\n",
       "      <th>season</th>\n",
       "      <th>team_1</th>\n",
       "      <th>team_2</th>\n",
       "      <th>home</th>\n",
       "      <th>seed_diff</th>\n",
       "      <th>score_diff</th>\n",
       "      <th>score_1</th>\n",
       "      <th>score_2</th>\n",
       "      <th>won</th>\n",
       "    </tr>\n",
       "  </thead>\n",
       "  <tbody>\n",
       "    <tr>\n",
       "      <td>0</td>\n",
       "      <td>1985</td>\n",
       "      <td>288</td>\n",
       "      <td>73</td>\n",
       "      <td>0</td>\n",
       "      <td>-3</td>\n",
       "      <td>-9</td>\n",
       "      <td>41</td>\n",
       "      <td>50</td>\n",
       "      <td>0</td>\n",
       "    </tr>\n",
       "    <tr>\n",
       "      <td>1</td>\n",
       "      <td>1985</td>\n",
       "      <td>5929</td>\n",
       "      <td>73</td>\n",
       "      <td>0</td>\n",
       "      <td>4</td>\n",
       "      <td>6</td>\n",
       "      <td>61</td>\n",
       "      <td>55</td>\n",
       "      <td>1</td>\n",
       "    </tr>\n",
       "    <tr>\n",
       "      <td>2</td>\n",
       "      <td>1985</td>\n",
       "      <td>9884</td>\n",
       "      <td>73</td>\n",
       "      <td>0</td>\n",
       "      <td>5</td>\n",
       "      <td>-4</td>\n",
       "      <td>59</td>\n",
       "      <td>63</td>\n",
       "      <td>0</td>\n",
       "    </tr>\n",
       "    <tr>\n",
       "      <td>3</td>\n",
       "      <td>1985</td>\n",
       "      <td>73</td>\n",
       "      <td>288</td>\n",
       "      <td>0</td>\n",
       "      <td>3</td>\n",
       "      <td>9</td>\n",
       "      <td>50</td>\n",
       "      <td>41</td>\n",
       "      <td>1</td>\n",
       "    </tr>\n",
       "    <tr>\n",
       "      <td>4</td>\n",
       "      <td>1985</td>\n",
       "      <td>3920</td>\n",
       "      <td>410</td>\n",
       "      <td>0</td>\n",
       "      <td>1</td>\n",
       "      <td>-9</td>\n",
       "      <td>54</td>\n",
       "      <td>63</td>\n",
       "      <td>0</td>\n",
       "    </tr>\n",
       "  </tbody>\n",
       "</table>\n",
       "</div>"
      ],
      "text/plain": [
       "   season  team_1  team_2  home  seed_diff  score_diff  score_1  score_2  won\n",
       "0    1985     288      73     0         -3          -9       41       50    0\n",
       "1    1985    5929      73     0          4           6       61       55    1\n",
       "2    1985    9884      73     0          5          -4       59       63    0\n",
       "3    1985      73     288     0          3           9       50       41    1\n",
       "4    1985    3920     410     0          1          -9       54       63    0"
      ]
     },
     "execution_count": 3,
     "metadata": {},
     "output_type": "execute_result"
    }
   ],
   "source": [
    "games_tourney = pd.read_csv('DataSet/games_tourney.csv')\n",
    "games_tourney.head()"
   ]
  },
  {
   "cell_type": "code",
   "execution_count": 4,
   "metadata": {
    "ExecuteTime": {
     "end_time": "2020-06-28T12:33:34.466451Z",
     "start_time": "2020-06-28T12:33:34.450494Z"
    }
   },
   "outputs": [
    {
     "data": {
      "text/html": [
       "<div>\n",
       "<style scoped>\n",
       "    .dataframe tbody tr th:only-of-type {\n",
       "        vertical-align: middle;\n",
       "    }\n",
       "\n",
       "    .dataframe tbody tr th {\n",
       "        vertical-align: top;\n",
       "    }\n",
       "\n",
       "    .dataframe thead th {\n",
       "        text-align: right;\n",
       "    }\n",
       "</style>\n",
       "<table border=\"1\" class=\"dataframe\">\n",
       "  <thead>\n",
       "    <tr style=\"text-align: right;\">\n",
       "      <th></th>\n",
       "      <th>season</th>\n",
       "      <th>team_1</th>\n",
       "      <th>team_2</th>\n",
       "      <th>home</th>\n",
       "      <th>seed_diff</th>\n",
       "      <th>score_diff</th>\n",
       "      <th>score_1</th>\n",
       "      <th>score_2</th>\n",
       "      <th>won</th>\n",
       "    </tr>\n",
       "  </thead>\n",
       "  <tbody>\n",
       "    <tr>\n",
       "      <td>4229</td>\n",
       "      <td>2017</td>\n",
       "      <td>10120</td>\n",
       "      <td>10696</td>\n",
       "      <td>0</td>\n",
       "      <td>-1</td>\n",
       "      <td>-10</td>\n",
       "      <td>74</td>\n",
       "      <td>84</td>\n",
       "      <td>0</td>\n",
       "    </tr>\n",
       "    <tr>\n",
       "      <td>4230</td>\n",
       "      <td>2017</td>\n",
       "      <td>320</td>\n",
       "      <td>10818</td>\n",
       "      <td>0</td>\n",
       "      <td>9</td>\n",
       "      <td>-2</td>\n",
       "      <td>71</td>\n",
       "      <td>73</td>\n",
       "      <td>0</td>\n",
       "    </tr>\n",
       "    <tr>\n",
       "      <td>4231</td>\n",
       "      <td>2017</td>\n",
       "      <td>2910</td>\n",
       "      <td>10818</td>\n",
       "      <td>0</td>\n",
       "      <td>8</td>\n",
       "      <td>-25</td>\n",
       "      <td>66</td>\n",
       "      <td>91</td>\n",
       "      <td>0</td>\n",
       "    </tr>\n",
       "    <tr>\n",
       "      <td>4232</td>\n",
       "      <td>2017</td>\n",
       "      <td>3300</td>\n",
       "      <td>10818</td>\n",
       "      <td>0</td>\n",
       "      <td>10</td>\n",
       "      <td>24</td>\n",
       "      <td>83</td>\n",
       "      <td>59</td>\n",
       "      <td>1</td>\n",
       "    </tr>\n",
       "    <tr>\n",
       "      <td>4233</td>\n",
       "      <td>2017</td>\n",
       "      <td>4973</td>\n",
       "      <td>10818</td>\n",
       "      <td>0</td>\n",
       "      <td>5</td>\n",
       "      <td>-11</td>\n",
       "      <td>65</td>\n",
       "      <td>76</td>\n",
       "      <td>0</td>\n",
       "    </tr>\n",
       "  </tbody>\n",
       "</table>\n",
       "</div>"
      ],
      "text/plain": [
       "      season  team_1  team_2  home  seed_diff  score_diff  score_1  score_2  \\\n",
       "4229    2017   10120   10696     0         -1         -10       74       84   \n",
       "4230    2017     320   10818     0          9          -2       71       73   \n",
       "4231    2017    2910   10818     0          8         -25       66       91   \n",
       "4232    2017    3300   10818     0         10          24       83       59   \n",
       "4233    2017    4973   10818     0          5         -11       65       76   \n",
       "\n",
       "      won  \n",
       "4229    0  \n",
       "4230    0  \n",
       "4231    0  \n",
       "4232    1  \n",
       "4233    0  "
      ]
     },
     "execution_count": 4,
     "metadata": {},
     "output_type": "execute_result"
    }
   ],
   "source": [
    "games_tourney.tail()"
   ]
  },
  {
   "cell_type": "markdown",
   "metadata": {},
   "source": [
    "### Keras Models"
   ]
  },
  {
   "cell_type": "code",
   "execution_count": 5,
   "metadata": {
    "ExecuteTime": {
     "end_time": "2020-06-28T12:33:36.242815Z",
     "start_time": "2020-06-28T12:33:34.469721Z"
    }
   },
   "outputs": [
    {
     "name": "stdout",
     "output_type": "stream",
     "text": [
      "Model: \"model\"\n",
      "_________________________________________________________________\n",
      "Layer (type)                 Output Shape              Param #   \n",
      "=================================================================\n",
      "input_1 (InputLayer)         [(None, 1)]               0         \n",
      "_________________________________________________________________\n",
      "Predicted-Score-Diff (Dense) (None, 1)                 2         \n",
      "=================================================================\n",
      "Total params: 2\n",
      "Trainable params: 2\n",
      "Non-trainable params: 0\n",
      "_________________________________________________________________\n"
     ]
    },
    {
     "data": {
      "image/png": "[encoded data removed]",
      "text/plain": [
       "<IPython.core.display.Image object>"
      ]
     },
     "execution_count": 5,
     "metadata": {},
     "output_type": "execute_result"
    }
   ],
   "source": [
    "input_tensor = Input(shape=(1,))\n",
    "output_layer = Dense(1, name='Predicted-Score-Diff')\n",
    "output_tensor = output_layer(input_tensor)\n",
    "\n",
    "model = Model(input_tensor, output_tensor)\n",
    "# should compile the model before fitting it to data\n",
    "model.compile(optimizer='adam', loss='mae')\n",
    "model.summary()\n",
    "plot_model(model, to_file='model.png')"
   ]
  },
  {
   "cell_type": "markdown",
   "metadata": {},
   "source": [
    "### Plotting Model before fitting"
   ]
  },
  {
   "cell_type": "code",
   "execution_count": 6,
   "metadata": {
    "ExecuteTime": {
     "end_time": "2020-06-28T12:33:36.702376Z",
     "start_time": "2020-06-28T12:33:36.248338Z"
    }
   },
   "outputs": [
    {
     "data": {
      "image/png": "[encoded data removed]",
      "text/plain": [
       "<Figure size 432x288 with 1 Axes>"
      ]
     },
     "metadata": {
      "needs_background": "light"
     },
     "output_type": "display_data"
    }
   ],
   "source": [
    "img = plt.imread('model.png')\n",
    "plt.imshow(img)\n",
    "plt.show()"
   ]
  },
  {
   "cell_type": "markdown",
   "metadata": {},
   "source": [
    "### Fit and Evaluate Model"
   ]
  },
  {
   "cell_type": "markdown",
   "metadata": {},
   "source": [
    "**Goal is to Predict tournament Outcomes**"
   ]
  },
  {
   "cell_type": "code",
   "execution_count": 7,
   "metadata": {
    "ExecuteTime": {
     "end_time": "2020-06-28T12:33:38.004065Z",
     "start_time": "2020-06-28T12:33:36.709540Z"
    }
   },
   "outputs": [
    {
     "name": "stdout",
     "output_type": "stream",
     "text": [
      "30/30 [==============================] - 0s 16ms/step - loss: 9.5768 - val_loss: 9.1711\n"
     ]
    },
    {
     "data": {
      "text/plain": [
       "<tensorflow.python.keras.callbacks.History at 0x1b6800f7fc8>"
      ]
     },
     "execution_count": 7,
     "metadata": {},
     "output_type": "execute_result"
    }
   ],
   "source": [
    "games = read_csv('DataSet/games_tourney.csv')\n",
    "model.fit(games['seed_diff'],\n",
    "          games['score_diff'],\n",
    "          epochs=1,\n",
    "          batch_size=128,  # how many rows of data are used for each step of stochastic gradient descent\n",
    "          # to use a holdout set and return metrics on accuracy using that data\n",
    "          validation_split=0.10,\n",
    "          verbose=True)  # prints a log during training"
   ]
  },
  {
   "cell_type": "markdown",
   "metadata": {},
   "source": [
    "**Evaluate Model**"
   ]
  },
  {
   "cell_type": "code",
   "execution_count": 8,
   "metadata": {
    "ExecuteTime": {
     "end_time": "2020-06-28T12:33:38.211582Z",
     "start_time": "2020-06-28T12:33:38.010395Z"
    }
   },
   "outputs": [
    {
     "name": "stdout",
     "output_type": "stream",
     "text": [
      "9.5145845413208\n"
     ]
    }
   ],
   "source": [
    "# Load the X variable from the test data\n",
    "X_test = games['seed_diff']\n",
    "\n",
    "# Load the y variable from the test data\n",
    "y_test = games['score_diff']\n",
    "\n",
    "# Evaluate the model on the test data\n",
    "print(model.evaluate(X_test, y_test, verbose=False))"
   ]
  },
  {
   "cell_type": "markdown",
   "metadata": {},
   "source": [
    "## Two Input Networks Using Categorical Embeddings, Shared Layers, and Merge Layers"
   ]
  },
  {
   "cell_type": "code",
   "execution_count": 9,
   "metadata": {
    "ExecuteTime": {
     "end_time": "2020-06-28T12:33:38.270299Z",
     "start_time": "2020-06-28T12:33:38.216096Z"
    }
   },
   "outputs": [
    {
     "data": {
      "text/plain": [
       "10888"
      ]
     },
     "execution_count": 9,
     "metadata": {},
     "output_type": "execute_result"
    }
   ],
   "source": [
    "n_teams = unique(games_season['team_1']).shape[0]\n",
    "n_teams"
   ]
  },
  {
   "cell_type": "markdown",
   "metadata": {},
   "source": [
    "### Categorical Embeddings"
   ]
  },
  {
   "cell_type": "code",
   "execution_count": 10,
   "metadata": {
    "ExecuteTime": {
     "end_time": "2020-06-28T12:33:38.366238Z",
     "start_time": "2020-06-28T12:33:38.274248Z"
    }
   },
   "outputs": [],
   "source": [
    "input_tensor = Input(shape=(1,))\n",
    "n_teams = unique(games_season['team_1']).shape[0]\n",
    "embed_layer = Embedding(input_dim=n_teams,\n",
    "                        input_length=1,  # each team represented as a single integer\n",
    "                        output_dim=1,\n",
    "                        name='Team-Strength-Lookup')\n",
    "embed_tensor = embed_layer(input_tensor)\n",
    "flatten_tensor = Flatten()(embed_tensor)\n",
    "team_strength_model = Model(input_tensor, flatten_tensor)"
   ]
  },
  {
   "cell_type": "markdown",
   "metadata": {},
   "source": [
    "### Shared Layers"
   ]
  },
  {
   "cell_type": "code",
   "execution_count": 11,
   "metadata": {
    "ExecuteTime": {
     "end_time": "2020-06-28T12:33:38.426309Z",
     "start_time": "2020-06-28T12:33:38.370187Z"
    }
   },
   "outputs": [],
   "source": [
    "# Input layer for team 1\n",
    "team_in_1 = Input(shape=(1,), name='Team-1-In')\n",
    "\n",
    "# Separate input layer for team 2\n",
    "team_in_2 = Input(shape=(1,), name='Team-2-In')\n",
    "\n",
    "# Lookup team 1 in the team strength model\n",
    "team_1_strength = team_strength_model(team_in_1)\n",
    "\n",
    "# Lookup team 2 in the team strength model\n",
    "team_2_strength = team_strength_model(team_in_2)"
   ]
  },
  {
   "cell_type": "markdown",
   "metadata": {},
   "source": [
    "### Merged Layers"
   ]
  },
  {
   "cell_type": "code",
   "execution_count": 12,
   "metadata": {
    "ExecuteTime": {
     "end_time": "2020-06-28T12:33:38.471179Z",
     "start_time": "2020-06-28T12:33:38.430542Z"
    }
   },
   "outputs": [],
   "source": [
    "# Create a subtract layer\n",
    "score_diff = Subtract()([team_1_strength, team_2_strength])\n",
    "\n",
    "# Create the model\n",
    "model = Model([team_in_1, team_in_2], score_diff)\n",
    "\n",
    "# Compile the model\n",
    "model.compile(optimizer='adam', loss='mean_absolute_error')"
   ]
  },
  {
   "cell_type": "markdown",
   "metadata": {},
   "source": [
    "**Predict Model**"
   ]
  },
  {
   "cell_type": "code",
   "execution_count": 13,
   "metadata": {
    "ExecuteTime": {
     "end_time": "2020-06-28T12:33:40.423126Z",
     "start_time": "2020-06-28T12:33:38.474124Z"
    }
   },
   "outputs": [
    {
     "name": "stdout",
     "output_type": "stream",
     "text": [
      "138/138 [==============================] - 1s 7ms/step - loss: 12.1200 - val_loss: 11.8384\n"
     ]
    },
    {
     "data": {
      "text/plain": [
       "<tensorflow.python.keras.callbacks.History at 0x1b6815cf0c8>"
      ]
     },
     "execution_count": 13,
     "metadata": {},
     "output_type": "execute_result"
    }
   ],
   "source": [
    "# Get the team_1 column from the regular season data\n",
    "input_1 = games_season['team_1']\n",
    "\n",
    "# Get the team_2 column from the regular season data\n",
    "input_2 = games_season['team_2']\n",
    "\n",
    "# Fit the model to input 1 and 2, using score diff as a target\n",
    "model.fit([input_1, input_2],\n",
    "          games_season['score_diff'],\n",
    "          epochs=1,\n",
    "          batch_size=2048,\n",
    "          validation_split=0.10,\n",
    "          verbose=True)"
   ]
  },
  {
   "cell_type": "markdown",
   "metadata": {},
   "source": [
    "*Model has learned strength rating for every team*"
   ]
  },
  {
   "cell_type": "markdown",
   "metadata": {},
   "source": [
    "**When I evaluated the model on this new dataset. This evaluation basically tells how well one can predict the tournament games, based on a model trained with the regular season data. This is interesting because many teams play each other in the tournament that did not play in the regular season. Performing this check I can now verify that my model is not over fitting.**"
   ]
  },
  {
   "cell_type": "code",
   "execution_count": 14,
   "metadata": {
    "ExecuteTime": {
     "end_time": "2020-06-28T12:33:40.635797Z",
     "start_time": "2020-06-28T12:33:40.427929Z"
    }
   },
   "outputs": [
    {
     "name": "stdout",
     "output_type": "stream",
     "text": [
      "11.680776596069336\n"
     ]
    }
   ],
   "source": [
    "# Get team_1 from the tournament data\n",
    "input_1 = games_tourney['team_1']\n",
    "\n",
    "# Get team_2 from the tournament data\n",
    "input_2 = games_tourney['team_2']\n",
    "\n",
    "# Evaluate the model using these inputs\n",
    "print(model.evaluate([input_1, input_2],\n",
    "                     games_tourney['score_diff'], verbose=False))"
   ]
  },
  {
   "cell_type": "markdown",
   "metadata": {},
   "source": [
    "## Multiple Inputs"
   ]
  },
  {
   "cell_type": "markdown",
   "metadata": {},
   "source": [
    "### Three-Input Models"
   ]
  },
  {
   "cell_type": "code",
   "execution_count": 15,
   "metadata": {
    "ExecuteTime": {
     "end_time": "2020-06-28T12:33:40.717446Z",
     "start_time": "2020-06-28T12:33:40.639737Z"
    }
   },
   "outputs": [],
   "source": [
    "# Create an Input for each team\n",
    "team_in_1 = Input(shape=(1,), name='Team-1-In')\n",
    "team_in_2 = Input(shape=(1,), name='Team-2-In')\n",
    "\n",
    "# Create an input for home vs away\n",
    "home_in = Input(shape=(1,), name='Home-In')\n",
    "\n",
    "# team strength model\n",
    "team_1_strength = team_strength_model(team_in_1)\n",
    "team_2_strength = team_strength_model(team_in_2)\n",
    "\n",
    "# Combine the team strengths with the home input\n",
    "out = Concatenate()([team_1_strength, team_2_strength, home_in])\n",
    "out = Dense(1)(out)"
   ]
  },
  {
   "cell_type": "code",
   "execution_count": 16,
   "metadata": {
    "ExecuteTime": {
     "end_time": "2020-06-28T12:33:40.752277Z",
     "start_time": "2020-06-28T12:33:40.722059Z"
    }
   },
   "outputs": [],
   "source": [
    "model = Model([team_in_1, team_in_2, home_in], out)\n",
    "model.compile(optimizer='adam', loss='mean_absolute_error')"
   ]
  },
  {
   "cell_type": "code",
   "execution_count": 17,
   "metadata": {
    "ExecuteTime": {
     "end_time": "2020-06-28T12:33:42.877164Z",
     "start_time": "2020-06-28T12:33:40.756437Z"
    }
   },
   "outputs": [
    {
     "name": "stdout",
     "output_type": "stream",
     "text": [
      "138/138 [==============================] - 1s 7ms/step - loss: 12.1043 - val_loss: 12.1220\n",
      "11.685766220092773\n"
     ]
    }
   ],
   "source": [
    "# Fit the model to the games_season dataset\n",
    "model.fit([games_season['team_1'], games_season['team_2'], games_season['home']],\n",
    "          games_season['score_diff'],\n",
    "          epochs=1,\n",
    "          verbose=True,\n",
    "          validation_split=.10,\n",
    "          batch_size=2048)\n",
    "\n",
    "# Evaluate the model on the games_tourney dataset\n",
    "print(model.evaluate([games_tourney['team_1'], games_tourney['team_2'], games_tourney['home']],\n",
    "                     games_tourney['score_diff'], verbose=False))"
   ]
  },
  {
   "cell_type": "code",
   "execution_count": 18,
   "metadata": {
    "ExecuteTime": {
     "end_time": "2020-06-28T12:33:43.795683Z",
     "start_time": "2020-06-28T12:33:42.882541Z"
    }
   },
   "outputs": [
    {
     "data": {
      "image/png": "[encoded data removed]",
      "text/plain": [
       "<Figure size 432x288 with 1 Axes>"
      ]
     },
     "metadata": {
      "needs_background": "light"
     },
     "output_type": "display_data"
    }
   ],
   "source": [
    "# Plot the model\n",
    "plot_model(model, to_file='model1.png')\n",
    "\n",
    "# Display the image\n",
    "data = plt.imread('model1.png')\n",
    "plt.imshow(data)\n",
    "plt.show()"
   ]
  },
  {
   "cell_type": "markdown",
   "metadata": {},
   "source": [
    "### Model Stacking"
   ]
  },
  {
   "cell_type": "markdown",
   "metadata": {},
   "source": [
    "*Here I tried to improve the model by using a form of model stacking by utilizing prediction from the regular season model as an input to the tournament model.*"
   ]
  },
  {
   "cell_type": "code",
   "execution_count": 19,
   "metadata": {
    "ExecuteTime": {
     "end_time": "2020-06-28T12:33:44.298232Z",
     "start_time": "2020-06-28T12:33:43.799941Z"
    }
   },
   "outputs": [],
   "source": [
    "games_tourney['pred'] = model.predict([games_tourney['team_1'],\n",
    "                                       games_tourney['team_2'],\n",
    "                                       games_tourney['home']])"
   ]
  },
  {
   "cell_type": "code",
   "execution_count": 20,
   "metadata": {
    "ExecuteTime": {
     "end_time": "2020-06-28T12:33:44.317114Z",
     "start_time": "2020-06-28T12:33:44.302299Z"
    }
   },
   "outputs": [],
   "source": [
    "games_tourney_train = games_tourney[[\n",
    "    'home', 'seed_diff', 'score_1', 'score_2', 'score_diff', 'won', 'pred']]\n",
    "games_tourney_test = games_tourney[[\n",
    "    'home', 'seed_diff', 'score_1', 'score_2', 'score_diff', 'won', 'pred']]"
   ]
  },
  {
   "cell_type": "code",
   "execution_count": 21,
   "metadata": {
    "ExecuteTime": {
     "end_time": "2020-06-28T12:33:48.884374Z",
     "start_time": "2020-06-28T12:33:44.321065Z"
    }
   },
   "outputs": [
    {
     "name": "stdout",
     "output_type": "stream",
     "text": [
      "Epoch 1/10\n",
      "120/120 [==============================] - 0s 3ms/step - loss: 14.2432 - val_loss: 13.7787\n",
      "Epoch 2/10\n",
      "120/120 [==============================] - 0s 2ms/step - loss: 13.7142 - val_loss: 13.2697\n",
      "Epoch 3/10\n",
      "120/120 [==============================] - 0s 3ms/step - loss: 13.2104 - val_loss: 12.7809\n",
      "Epoch 4/10\n",
      "120/120 [==============================] - 0s 3ms/step - loss: 12.7358 - val_loss: 12.3175\n",
      "Epoch 5/10\n",
      "120/120 [==============================] - 0s 3ms/step - loss: 12.3018 - val_loss: 11.8884\n",
      "Epoch 6/10\n",
      "120/120 [==============================] - 0s 4ms/step - loss: 11.8923 - val_loss: 11.4878\n",
      "Epoch 7/10\n",
      "120/120 [==============================] - 0s 4ms/step - loss: 11.4941 - val_loss: 11.0931\n",
      "Epoch 8/10\n",
      "120/120 [==============================] - 0s 3ms/step - loss: 11.1217 - val_loss: 10.7238\n",
      "Epoch 9/10\n",
      "120/120 [==============================] - 0s 3ms/step - loss: 10.7864 - val_loss: 10.3893\n",
      "Epoch 10/10\n",
      "120/120 [==============================] - 0s 4ms/step - loss: 10.4904 - val_loss: 10.0897\n"
     ]
    },
    {
     "data": {
      "text/plain": [
       "<tensorflow.python.keras.callbacks.History at 0x1b682e0d948>"
      ]
     },
     "execution_count": 21,
     "metadata": {},
     "output_type": "execute_result"
    }
   ],
   "source": [
    "# Input layer with 3 columns\n",
    "input_tensor = Input((3,))\n",
    "\n",
    "# Pass it to Dense layer with 1 unit\n",
    "output_tensor = Dense(1)(input_tensor)\n",
    "\n",
    "# Model\n",
    "model = Model(input_tensor, output_tensor)\n",
    "\n",
    "# Compile\n",
    "model.compile(optimizer='adam', loss='mean_absolute_error')\n",
    "\n",
    "train_X = games_tourney_train[['home', 'seed_diff', 'pred']]\n",
    "train_y = games_tourney_train['score_diff']\n",
    "\n",
    "\n",
    "model.fit(train_X,\n",
    "          train_y,\n",
    "          epochs=10,\n",
    "          validation_split=0.10,\n",
    "          verbose=True)"
   ]
  },
  {
   "cell_type": "code",
   "execution_count": 22,
   "metadata": {
    "ExecuteTime": {
     "end_time": "2020-06-28T12:33:49.042563Z",
     "start_time": "2020-06-28T12:33:48.896344Z"
    }
   },
   "outputs": [
    {
     "data": {
      "text/plain": [
       "10.32840347290039"
      ]
     },
     "execution_count": 22,
     "metadata": {},
     "output_type": "execute_result"
    }
   ],
   "source": [
    "test_X = games_tourney_test[['home', 'seed_diff', 'pred']]\n",
    "test_y = games_tourney_test['score_diff']\n",
    "model.evaluate(test_X, test_y, verbose=False)"
   ]
  },
  {
   "cell_type": "markdown",
   "metadata": {},
   "source": [
    "## Multiple Outputs"
   ]
  },
  {
   "cell_type": "markdown",
   "metadata": {},
   "source": [
    "### Two-Output Models"
   ]
  },
  {
   "cell_type": "code",
   "execution_count": 23,
   "metadata": {
    "ExecuteTime": {
     "end_time": "2020-06-28T12:33:49.065429Z",
     "start_time": "2020-06-28T12:33:49.045064Z"
    }
   },
   "outputs": [],
   "source": [
    "# Define the input\n",
    "input_tensor = Input(shape=(2,))\n",
    "\n",
    "# Define the output\n",
    "output_tensor = Dense(2)(input_tensor)\n",
    "\n",
    "# Create a model\n",
    "model = Model(input_tensor, output_tensor)\n",
    "\n",
    "# Compile the model\n",
    "model.compile(optimizer='adam', loss='mean_absolute_error')"
   ]
  },
  {
   "cell_type": "code",
   "execution_count": 24,
   "metadata": {
    "ExecuteTime": {
     "end_time": "2020-06-28T12:33:49.654953Z",
     "start_time": "2020-06-28T12:33:49.067424Z"
    }
   },
   "outputs": [
    {
     "name": "stdout",
     "output_type": "stream",
     "text": [
      "Epoch 1/100\n",
      "1/1 [==============================] - 0s 2ms/step - loss: 71.0647\n",
      "Epoch 2/100\n",
      "1/1 [==============================] - 0s 997us/step - loss: 71.0634\n",
      "Epoch 3/100\n",
      "1/1 [==============================] - 0s 996us/step - loss: 71.0622\n",
      "Epoch 4/100\n",
      "1/1 [==============================] - 0s 997us/step - loss: 71.0610\n",
      "Epoch 5/100\n",
      "1/1 [==============================] - 0s 999us/step - loss: 71.0598\n",
      "Epoch 6/100\n",
      "1/1 [==============================] - 0s 0s/step - loss: 71.0585\n",
      "Epoch 7/100\n",
      "1/1 [==============================] - 0s 998us/step - loss: 71.0573\n",
      "Epoch 8/100\n",
      "1/1 [==============================] - 0s 994us/step - loss: 71.0561\n",
      "Epoch 9/100\n",
      "1/1 [==============================] - 0s 997us/step - loss: 71.0549\n",
      "Epoch 10/100\n",
      "1/1 [==============================] - 0s 0s/step - loss: 71.0536\n",
      "Epoch 11/100\n",
      "1/1 [==============================] - 0s 1ms/step - loss: 71.0524\n",
      "Epoch 12/100\n",
      "1/1 [==============================] - 0s 997us/step - loss: 71.0512\n",
      "Epoch 13/100\n",
      "1/1 [==============================] - 0s 0s/step - loss: 71.0499\n",
      "Epoch 14/100\n",
      "1/1 [==============================] - 0s 999us/step - loss: 71.0487\n",
      "Epoch 15/100\n",
      "1/1 [==============================] - 0s 1ms/step - loss: 71.0475\n",
      "Epoch 16/100\n",
      "1/1 [==============================] - 0s 968us/step - loss: 71.0462\n",
      "Epoch 17/100\n",
      "1/1 [==============================] - 0s 2ms/step - loss: 71.0450\n",
      "Epoch 18/100\n",
      "1/1 [==============================] - 0s 993us/step - loss: 71.0438\n",
      "Epoch 19/100\n",
      "1/1 [==============================] - 0s 997us/step - loss: 71.0426\n",
      "Epoch 20/100\n",
      "1/1 [==============================] - 0s 1ms/step - loss: 71.0413\n",
      "Epoch 21/100\n",
      "1/1 [==============================] - 0s 998us/step - loss: 71.0401\n",
      "Epoch 22/100\n",
      "1/1 [==============================] - 0s 799us/step - loss: 71.0389\n",
      "Epoch 23/100\n",
      "1/1 [==============================] - 0s 0s/step - loss: 71.0376\n",
      "Epoch 24/100\n",
      "1/1 [==============================] - 0s 2ms/step - loss: 71.0364\n",
      "Epoch 25/100\n",
      "1/1 [==============================] - 0s 998us/step - loss: 71.0352\n",
      "Epoch 26/100\n",
      "1/1 [==============================] - 0s 1ms/step - loss: 71.0339\n",
      "Epoch 27/100\n",
      "1/1 [==============================] - 0s 2ms/step - loss: 71.0327\n",
      "Epoch 28/100\n",
      "1/1 [==============================] - 0s 1ms/step - loss: 71.0315\n",
      "Epoch 29/100\n",
      "1/1 [==============================] - 0s 1ms/step - loss: 71.0303\n",
      "Epoch 30/100\n",
      "1/1 [==============================] - 0s 998us/step - loss: 71.0291\n",
      "Epoch 31/100\n",
      "1/1 [==============================] - 0s 0s/step - loss: 71.0278\n",
      "Epoch 32/100\n",
      "1/1 [==============================] - 0s 2ms/step - loss: 71.0266\n",
      "Epoch 33/100\n",
      "1/1 [==============================] - 0s 2ms/step - loss: 71.0253\n",
      "Epoch 34/100\n",
      "1/1 [==============================] - 0s 997us/step - loss: 71.0241\n",
      "Epoch 35/100\n",
      "1/1 [==============================] - 0s 998us/step - loss: 71.0229\n",
      "Epoch 36/100\n",
      "1/1 [==============================] - 0s 2ms/step - loss: 71.0217\n",
      "Epoch 37/100\n",
      "1/1 [==============================] - 0s 995us/step - loss: 71.0204\n",
      "Epoch 38/100\n",
      "1/1 [==============================] - 0s 695us/step - loss: 71.0192\n",
      "Epoch 39/100\n",
      "1/1 [==============================] - 0s 1ms/step - loss: 71.0180\n",
      "Epoch 40/100\n",
      "1/1 [==============================] - 0s 997us/step - loss: 71.0168\n",
      "Epoch 41/100\n",
      "1/1 [==============================] - 0s 1ms/step - loss: 71.0155\n",
      "Epoch 42/100\n",
      "1/1 [==============================] - 0s 2ms/step - loss: 71.0143\n",
      "Epoch 43/100\n",
      "1/1 [==============================] - 0s 1ms/step - loss: 71.0131\n",
      "Epoch 44/100\n",
      "1/1 [==============================] - 0s 942us/step - loss: 71.0118\n",
      "Epoch 45/100\n",
      "1/1 [==============================] - 0s 968us/step - loss: 71.0106\n",
      "Epoch 46/100\n",
      "1/1 [==============================] - 0s 1ms/step - loss: 71.0094\n",
      "Epoch 47/100\n",
      "1/1 [==============================] - 0s 998us/step - loss: 71.0082\n",
      "Epoch 48/100\n",
      "1/1 [==============================] - 0s 592us/step - loss: 71.0069\n",
      "Epoch 49/100\n",
      "1/1 [==============================] - 0s 817us/step - loss: 71.0057\n",
      "Epoch 50/100\n",
      "1/1 [==============================] - 0s 719us/step - loss: 71.0045\n",
      "Epoch 51/100\n",
      "1/1 [==============================] - 0s 997us/step - loss: 71.0032\n",
      "Epoch 52/100\n",
      "1/1 [==============================] - 0s 0s/step - loss: 71.0020\n",
      "Epoch 53/100\n",
      "1/1 [==============================] - 0s 2ms/step - loss: 71.0008\n",
      "Epoch 54/100\n",
      "1/1 [==============================] - 0s 1ms/step - loss: 70.9995\n",
      "Epoch 55/100\n",
      "1/1 [==============================] - 0s 966us/step - loss: 70.9983\n",
      "Epoch 56/100\n",
      "1/1 [==============================] - 0s 941us/step - loss: 70.9971\n",
      "Epoch 57/100\n",
      "1/1 [==============================] - 0s 1ms/step - loss: 70.9959\n",
      "Epoch 58/100\n",
      "1/1 [==============================] - 0s 1ms/step - loss: 70.9946\n",
      "Epoch 59/100\n",
      "1/1 [==============================] - 0s 998us/step - loss: 70.9934\n",
      "Epoch 60/100\n",
      "1/1 [==============================] - 0s 933us/step - loss: 70.9922\n",
      "Epoch 61/100\n",
      "1/1 [==============================] - 0s 1ms/step - loss: 70.9910\n",
      "Epoch 62/100\n",
      "1/1 [==============================] - 0s 0s/step - loss: 70.9897\n",
      "Epoch 63/100\n",
      "1/1 [==============================] - 0s 1ms/step - loss: 70.9885\n",
      "Epoch 64/100\n",
      "1/1 [==============================] - 0s 998us/step - loss: 70.9873\n",
      "Epoch 65/100\n",
      "1/1 [==============================] - 0s 1ms/step - loss: 70.9860\n",
      "Epoch 66/100\n",
      "1/1 [==============================] - 0s 1ms/step - loss: 70.9848\n",
      "Epoch 67/100\n",
      "1/1 [==============================] - 0s 998us/step - loss: 70.9836\n",
      "Epoch 68/100\n",
      "1/1 [==============================] - 0s 1ms/step - loss: 70.9824\n",
      "Epoch 69/100\n",
      "1/1 [==============================] - 0s 1ms/step - loss: 70.9811\n",
      "Epoch 70/100\n",
      "1/1 [==============================] - 0s 0s/step - loss: 70.9799\n",
      "Epoch 71/100\n",
      "1/1 [==============================] - 0s 998us/step - loss: 70.9787\n",
      "Epoch 72/100\n",
      "1/1 [==============================] - 0s 2ms/step - loss: 70.9774\n",
      "Epoch 73/100\n",
      "1/1 [==============================] - 0s 998us/step - loss: 70.9762\n",
      "Epoch 74/100\n",
      "1/1 [==============================] - 0s 0s/step - loss: 70.9750\n",
      "Epoch 75/100\n",
      "1/1 [==============================] - 0s 0s/step - loss: 70.9738\n",
      "Epoch 76/100\n",
      "1/1 [==============================] - 0s 999us/step - loss: 70.9725\n",
      "Epoch 77/100\n",
      "1/1 [==============================] - 0s 2ms/step - loss: 70.9713\n",
      "Epoch 78/100\n",
      "1/1 [==============================] - 0s 2ms/step - loss: 70.9701\n",
      "Epoch 79/100\n",
      "1/1 [==============================] - 0s 0s/step - loss: 70.9689\n",
      "Epoch 80/100\n",
      "1/1 [==============================] - 0s 997us/step - loss: 70.9676\n",
      "Epoch 81/100\n",
      "1/1 [==============================] - 0s 0s/step - loss: 70.9664\n",
      "Epoch 82/100\n",
      "1/1 [==============================] - 0s 668us/step - loss: 70.9652\n",
      "Epoch 83/100\n",
      "1/1 [==============================] - 0s 2ms/step - loss: 70.9639\n",
      "Epoch 84/100\n",
      "1/1 [==============================] - 0s 999us/step - loss: 70.9627\n",
      "Epoch 85/100\n",
      "1/1 [==============================] - 0s 1ms/step - loss: 70.9615\n",
      "Epoch 86/100\n",
      "1/1 [==============================] - 0s 2ms/step - loss: 70.9602\n",
      "Epoch 87/100\n",
      "1/1 [==============================] - 0s 2ms/step - loss: 70.9590\n",
      "Epoch 88/100\n",
      "1/1 [==============================] - 0s 1ms/step - loss: 70.9578\n",
      "Epoch 89/100\n",
      "1/1 [==============================] - 0s 996us/step - loss: 70.9566\n",
      "Epoch 90/100\n",
      "1/1 [==============================] - 0s 2ms/step - loss: 70.9553\n",
      "Epoch 91/100\n",
      "1/1 [==============================] - 0s 2ms/step - loss: 70.9541\n",
      "Epoch 92/100\n",
      "1/1 [==============================] - 0s 998us/step - loss: 70.9529\n",
      "Epoch 93/100\n",
      "1/1 [==============================] - 0s 1ms/step - loss: 70.9516\n",
      "Epoch 94/100\n",
      "1/1 [==============================] - 0s 995us/step - loss: 70.9504\n",
      "Epoch 95/100\n",
      "1/1 [==============================] - 0s 1ms/step - loss: 70.9492\n",
      "Epoch 96/100\n",
      "1/1 [==============================] - 0s 905us/step - loss: 70.9479\n",
      "Epoch 97/100\n",
      "1/1 [==============================] - 0s 1ms/step - loss: 70.9467\n",
      "Epoch 98/100\n",
      "1/1 [==============================] - 0s 2ms/step - loss: 70.9455\n",
      "Epoch 99/100\n",
      "1/1 [==============================] - 0s 997us/step - loss: 70.9443\n",
      "Epoch 100/100\n",
      "1/1 [==============================] - 0s 997us/step - loss: 70.9430\n"
     ]
    },
    {
     "data": {
      "text/plain": [
       "<tensorflow.python.keras.callbacks.History at 0x1b681823648>"
      ]
     },
     "execution_count": 24,
     "metadata": {},
     "output_type": "execute_result"
    }
   ],
   "source": [
    "model.fit(games_tourney_train[['seed_diff', 'pred']],\n",
    "          games_tourney_train[['score_1', 'score_2']],\n",
    "          verbose=True,\n",
    "          epochs=100,\n",
    "          batch_size=16384)"
   ]
  },
  {
   "cell_type": "code",
   "execution_count": 25,
   "metadata": {
    "ExecuteTime": {
     "end_time": "2020-06-28T12:33:49.663275Z",
     "start_time": "2020-06-28T12:33:49.655950Z"
    }
   },
   "outputs": [
    {
     "name": "stdout",
     "output_type": "stream",
     "text": [
      "[array([[-0.5512995 ,  1.1610199 ],\n",
      "       [ 0.6628754 ,  0.12013929]], dtype=float32), array([0.09999996, 0.09999996], dtype=float32)]\n",
      "season        2001.193198\n",
      "team_1        5589.146906\n",
      "team_2        5589.146906\n",
      "home             0.000000\n",
      "seed_diff        0.000000\n",
      "score_diff       0.000000\n",
      "score_1         71.131318\n",
      "score_2         71.131318\n",
      "won              0.500000\n",
      "pred             0.228627\n",
      "dtype: float64\n"
     ]
    }
   ],
   "source": [
    "# Model's weights\n",
    "print(model.get_weights())\n",
    "\n",
    "# Column means of the training data\n",
    "print(games_tourney.mean())"
   ]
  },
  {
   "cell_type": "markdown",
   "metadata": {},
   "source": [
    "**It can be noticed that both output weights are about ~72. This is because, on average, a team will score about 72 points in the tournament.**"
   ]
  },
  {
   "cell_type": "code",
   "execution_count": 26,
   "metadata": {
    "ExecuteTime": {
     "end_time": "2020-06-28T12:33:49.793592Z",
     "start_time": "2020-06-28T12:33:49.665264Z"
    }
   },
   "outputs": [
    {
     "name": "stdout",
     "output_type": "stream",
     "text": [
      "70.94181060791016\n"
     ]
    }
   ],
   "source": [
    "print(model.evaluate(games_tourney_test[['seed_diff', 'pred']],\n",
    "                     games_tourney_test[['score_1', 'score_2']], verbose=False))"
   ]
  },
  {
   "cell_type": "markdown",
   "metadata": {},
   "source": [
    "### Single Model for Classification and regression"
   ]
  },
  {
   "cell_type": "code",
   "execution_count": 27,
   "metadata": {
    "ExecuteTime": {
     "end_time": "2020-06-28T12:33:49.812363Z",
     "start_time": "2020-06-28T12:33:49.794585Z"
    }
   },
   "outputs": [],
   "source": [
    "# Create an input layer with 2 columns\n",
    "input_tensor = Input(shape=(2,))\n",
    "\n",
    "# Create the first output\n",
    "output_tensor_1 = Dense(1, activation='linear', use_bias=False)(input_tensor)\n",
    "\n",
    "# Create the second output (use the first output as input here)\n",
    "output_tensor_2 = Dense(1, activation='sigmoid',\n",
    "                        use_bias=False)(output_tensor_1)\n",
    "\n",
    "# Create a model with 2 outputs\n",
    "model = Model(input_tensor, [output_tensor_1, output_tensor_2])"
   ]
  },
  {
   "cell_type": "code",
   "execution_count": 28,
   "metadata": {
    "ExecuteTime": {
     "end_time": "2020-06-28T12:33:59.079759Z",
     "start_time": "2020-06-28T12:33:49.814400Z"
    }
   },
   "outputs": [
    {
     "name": "stdout",
     "output_type": "stream",
     "text": [
      "Epoch 1/500\n",
      "1/1 [==============================] - 0s 4ms/step - loss: 16.0664 - dense_3_loss: 13.8466 - dense_4_loss: 2.2198\n",
      "Epoch 2/500\n",
      "1/1 [==============================] - 0s 4ms/step - loss: 15.9613 - dense_3_loss: 13.8012 - dense_4_loss: 2.1600\n",
      "Epoch 3/500\n",
      "1/1 [==============================] - 0s 4ms/step - loss: 15.8573 - dense_3_loss: 13.7559 - dense_4_loss: 2.1015\n",
      "Epoch 4/500\n",
      "1/1 [==============================] - 0s 3ms/step - loss: 15.7547 - dense_3_loss: 13.7106 - dense_4_loss: 2.0441\n",
      "Epoch 5/500\n",
      "1/1 [==============================] - 0s 5ms/step - loss: 15.6533 - dense_3_loss: 13.6653 - dense_4_loss: 1.9880\n",
      "Epoch 6/500\n",
      "1/1 [==============================] - 0s 3ms/step - loss: 15.5534 - dense_3_loss: 13.6201 - dense_4_loss: 1.9332\n",
      "Epoch 7/500\n",
      "1/1 [==============================] - 0s 3ms/step - loss: 15.4551 - dense_3_loss: 13.5754 - dense_4_loss: 1.8797\n",
      "Epoch 8/500\n",
      "1/1 [==============================] - 0s 3ms/step - loss: 15.3584 - dense_3_loss: 13.5308 - dense_4_loss: 1.8276\n",
      "Epoch 9/500\n",
      "1/1 [==============================] - 0s 3ms/step - loss: 15.2632 - dense_3_loss: 13.4864 - dense_4_loss: 1.7768\n",
      "Epoch 10/500\n",
      "1/1 [==============================] - 0s 3ms/step - loss: 15.1695 - dense_3_loss: 13.4422 - dense_4_loss: 1.7273\n",
      "Epoch 11/500\n",
      "1/1 [==============================] - 0s 1ms/step - loss: 15.0773 - dense_3_loss: 13.3981 - dense_4_loss: 1.6792\n",
      "Epoch 12/500\n",
      "1/1 [==============================] - 0s 2ms/step - loss: 14.9867 - dense_3_loss: 13.3543 - dense_4_loss: 1.6324\n",
      "Epoch 13/500\n",
      "1/1 [==============================] - 0s 2ms/step - loss: 14.8978 - dense_3_loss: 13.3107 - dense_4_loss: 1.5871\n",
      "Epoch 14/500\n",
      "1/1 [==============================] - 0s 2ms/step - loss: 14.8106 - dense_3_loss: 13.2675 - dense_4_loss: 1.5432\n",
      "Epoch 15/500\n",
      "1/1 [==============================] - 0s 2ms/step - loss: 14.7252 - dense_3_loss: 13.2246 - dense_4_loss: 1.5006\n",
      "Epoch 16/500\n",
      "1/1 [==============================] - 0s 2ms/step - loss: 14.6413 - dense_3_loss: 13.1818 - dense_4_loss: 1.4595\n",
      "Epoch 17/500\n",
      "1/1 [==============================] - 0s 3ms/step - loss: 14.5590 - dense_3_loss: 13.1392 - dense_4_loss: 1.4197\n",
      "Epoch 18/500\n",
      "1/1 [==============================] - 0s 2ms/step - loss: 14.4784 - dense_3_loss: 13.0969 - dense_4_loss: 1.3814\n",
      "Epoch 19/500\n",
      "1/1 [==============================] - 0s 2ms/step - loss: 14.3994 - dense_3_loss: 13.0550 - dense_4_loss: 1.3445\n",
      "Epoch 20/500\n",
      "1/1 [==============================] - 0s 2ms/step - loss: 14.3222 - dense_3_loss: 13.0133 - dense_4_loss: 1.3089\n",
      "Epoch 21/500\n",
      "1/1 [==============================] - 0s 2ms/step - loss: 14.2465 - dense_3_loss: 12.9718 - dense_4_loss: 1.2747\n",
      "Epoch 22/500\n",
      "1/1 [==============================] - 0s 997us/step - loss: 14.1725 - dense_3_loss: 12.9306 - dense_4_loss: 1.2419\n",
      "Epoch 23/500\n",
      "1/1 [==============================] - 0s 1ms/step - loss: 14.1001 - dense_3_loss: 12.8898 - dense_4_loss: 1.2104\n",
      "Epoch 24/500\n",
      "1/1 [==============================] - 0s 2ms/step - loss: 14.0293 - dense_3_loss: 12.8491 - dense_4_loss: 1.1802\n",
      "Epoch 25/500\n",
      "1/1 [==============================] - 0s 1ms/step - loss: 13.9602 - dense_3_loss: 12.8089 - dense_4_loss: 1.1513\n",
      "Epoch 26/500\n",
      "1/1 [==============================] - 0s 2ms/step - loss: 13.8927 - dense_3_loss: 12.7690 - dense_4_loss: 1.1237\n",
      "Epoch 27/500\n",
      "1/1 [==============================] - 0s 2ms/step - loss: 13.8267 - dense_3_loss: 12.7294 - dense_4_loss: 1.0973\n",
      "Epoch 28/500\n",
      "1/1 [==============================] - 0s 3ms/step - loss: 13.7624 - dense_3_loss: 12.6903 - dense_4_loss: 1.0721\n",
      "Epoch 29/500\n",
      "1/1 [==============================] - 0s 3ms/step - loss: 13.6997 - dense_3_loss: 12.6516 - dense_4_loss: 1.0481\n",
      "Epoch 30/500\n",
      "1/1 [==============================] - 0s 3ms/step - loss: 13.6387 - dense_3_loss: 12.6134 - dense_4_loss: 1.0253\n",
      "Epoch 31/500\n",
      "1/1 [==============================] - 0s 2ms/step - loss: 13.5791 - dense_3_loss: 12.5756 - dense_4_loss: 1.0035\n",
      "Epoch 32/500\n",
      "1/1 [==============================] - 0s 3ms/step - loss: 13.5211 - dense_3_loss: 12.5383 - dense_4_loss: 0.9828\n",
      "Epoch 33/500\n",
      "1/1 [==============================] - 0s 3ms/step - loss: 13.4645 - dense_3_loss: 12.5013 - dense_4_loss: 0.9632\n",
      "Epoch 34/500\n",
      "1/1 [==============================] - 0s 3ms/step - loss: 13.4092 - dense_3_loss: 12.4647 - dense_4_loss: 0.9445\n",
      "Epoch 35/500\n",
      "1/1 [==============================] - 0s 3ms/step - loss: 13.3552 - dense_3_loss: 12.4284 - dense_4_loss: 0.9268\n",
      "Epoch 36/500\n",
      "1/1 [==============================] - 0s 2ms/step - loss: 13.3025 - dense_3_loss: 12.3925 - dense_4_loss: 0.9100\n",
      "Epoch 37/500\n",
      "1/1 [==============================] - 0s 3ms/step - loss: 13.2509 - dense_3_loss: 12.3568 - dense_4_loss: 0.8940\n",
      "Epoch 38/500\n",
      "1/1 [==============================] - 0s 3ms/step - loss: 13.2005 - dense_3_loss: 12.3216 - dense_4_loss: 0.8789\n",
      "Epoch 39/500\n",
      "1/1 [==============================] - 0s 3ms/step - loss: 13.1514 - dense_3_loss: 12.2868 - dense_4_loss: 0.8645\n",
      "Epoch 40/500\n",
      "1/1 [==============================] - 0s 2ms/step - loss: 13.1032 - dense_3_loss: 12.2523 - dense_4_loss: 0.8509\n",
      "Epoch 41/500\n",
      "1/1 [==============================] - 0s 0s/step - loss: 13.0561 - dense_3_loss: 12.2181 - dense_4_loss: 0.8380\n",
      "Epoch 42/500\n",
      "1/1 [==============================] - 0s 1ms/step - loss: 13.0099 - dense_3_loss: 12.1842 - dense_4_loss: 0.8257\n",
      "Epoch 43/500\n",
      "1/1 [==============================] - 0s 997us/step - loss: 12.9647 - dense_3_loss: 12.1506 - dense_4_loss: 0.8140\n",
      "Epoch 44/500\n",
      "1/1 [==============================] - 0s 999us/step - loss: 12.9204 - dense_3_loss: 12.1174 - dense_4_loss: 0.8030\n",
      "Epoch 45/500\n",
      "1/1 [==============================] - 0s 998us/step - loss: 12.8770 - dense_3_loss: 12.0846 - dense_4_loss: 0.7924\n",
      "Epoch 46/500\n",
      "1/1 [==============================] - 0s 2ms/step - loss: 12.8347 - dense_3_loss: 12.0523 - dense_4_loss: 0.7824\n",
      "Epoch 47/500\n",
      "1/1 [==============================] - 0s 2ms/step - loss: 12.7932 - dense_3_loss: 12.0203 - dense_4_loss: 0.7729\n",
      "Epoch 48/500\n",
      "1/1 [==============================] - 0s 0s/step - loss: 12.7525 - dense_3_loss: 11.9887 - dense_4_loss: 0.7638\n",
      "Epoch 49/500\n",
      "1/1 [==============================] - 0s 1ms/step - loss: 12.7126 - dense_3_loss: 11.9574 - dense_4_loss: 0.7552\n",
      "Epoch 50/500\n",
      "1/1 [==============================] - 0s 997us/step - loss: 12.6733 - dense_3_loss: 11.9263 - dense_4_loss: 0.7470\n",
      "Epoch 51/500\n",
      "1/1 [==============================] - 0s 997us/step - loss: 12.6346 - dense_3_loss: 11.8955 - dense_4_loss: 0.7391\n",
      "Epoch 52/500\n",
      "1/1 [==============================] - 0s 987us/step - loss: 12.5965 - dense_3_loss: 11.8649 - dense_4_loss: 0.7316\n",
      "Epoch 53/500\n",
      "1/1 [==============================] - 0s 998us/step - loss: 12.5588 - dense_3_loss: 11.8344 - dense_4_loss: 0.7244\n",
      "Epoch 54/500\n",
      "1/1 [==============================] - 0s 997us/step - loss: 12.5215 - dense_3_loss: 11.8040 - dense_4_loss: 0.7175\n",
      "Epoch 55/500\n",
      "1/1 [==============================] - 0s 997us/step - loss: 12.4847 - dense_3_loss: 11.7738 - dense_4_loss: 0.7109\n",
      "Epoch 56/500\n",
      "1/1 [==============================] - 0s 2ms/step - loss: 12.4483 - dense_3_loss: 11.7438 - dense_4_loss: 0.7045\n",
      "Epoch 57/500\n",
      "1/1 [==============================] - 0s 998us/step - loss: 12.4122 - dense_3_loss: 11.7138 - dense_4_loss: 0.6984\n",
      "Epoch 58/500\n",
      "1/1 [==============================] - 0s 998us/step - loss: 12.3764 - dense_3_loss: 11.6839 - dense_4_loss: 0.6925\n",
      "Epoch 59/500\n",
      "1/1 [==============================] - 0s 996us/step - loss: 12.3410 - dense_3_loss: 11.6542 - dense_4_loss: 0.6868\n",
      "Epoch 60/500\n",
      "1/1 [==============================] - 0s 2ms/step - loss: 12.3058 - dense_3_loss: 11.6245 - dense_4_loss: 0.6813\n",
      "Epoch 61/500\n",
      "1/1 [==============================] - 0s 998us/step - loss: 12.2709 - dense_3_loss: 11.5949 - dense_4_loss: 0.6760\n",
      "Epoch 62/500\n",
      "1/1 [==============================] - 0s 997us/step - loss: 12.2363 - dense_3_loss: 11.5655 - dense_4_loss: 0.6708\n",
      "Epoch 63/500\n",
      "1/1 [==============================] - 0s 996us/step - loss: 12.2019 - dense_3_loss: 11.5360 - dense_4_loss: 0.6658\n",
      "Epoch 64/500\n",
      "1/1 [==============================] - 0s 1ms/step - loss: 12.1677 - dense_3_loss: 11.5067 - dense_4_loss: 0.6610\n",
      "Epoch 65/500\n"
     ]
    },
    {
     "name": "stdout",
     "output_type": "stream",
     "text": [
      "1/1 [==============================] - 0s 2ms/step - loss: 12.1337 - dense_3_loss: 11.4774 - dense_4_loss: 0.6563\n",
      "Epoch 66/500\n",
      "1/1 [==============================] - 0s 1ms/step - loss: 12.1000 - dense_3_loss: 11.4483 - dense_4_loss: 0.6517\n",
      "Epoch 67/500\n",
      "1/1 [==============================] - 0s 998us/step - loss: 12.0666 - dense_3_loss: 11.4193 - dense_4_loss: 0.6473\n",
      "Epoch 68/500\n",
      "1/1 [==============================] - 0s 2ms/step - loss: 12.0334 - dense_3_loss: 11.3905 - dense_4_loss: 0.6430\n",
      "Epoch 69/500\n",
      "1/1 [==============================] - 0s 998us/step - loss: 12.0007 - dense_3_loss: 11.3619 - dense_4_loss: 0.6388\n",
      "Epoch 70/500\n",
      "1/1 [==============================] - 0s 997us/step - loss: 11.9682 - dense_3_loss: 11.3335 - dense_4_loss: 0.6347\n",
      "Epoch 71/500\n",
      "1/1 [==============================] - 0s 2ms/step - loss: 11.9360 - dense_3_loss: 11.3053 - dense_4_loss: 0.6307\n",
      "Epoch 72/500\n",
      "1/1 [==============================] - 0s 997us/step - loss: 11.9041 - dense_3_loss: 11.2773 - dense_4_loss: 0.6268\n",
      "Epoch 73/500\n",
      "1/1 [==============================] - 0s 2ms/step - loss: 11.8726 - dense_3_loss: 11.2495 - dense_4_loss: 0.6231\n",
      "Epoch 74/500\n",
      "1/1 [==============================] - 0s 2ms/step - loss: 11.8412 - dense_3_loss: 11.2218 - dense_4_loss: 0.6194\n",
      "Epoch 75/500\n",
      "1/1 [==============================] - 0s 2ms/step - loss: 11.8104 - dense_3_loss: 11.1945 - dense_4_loss: 0.6158\n",
      "Epoch 76/500\n",
      "1/1 [==============================] - 0s 2ms/step - loss: 11.7798 - dense_3_loss: 11.1674 - dense_4_loss: 0.6124\n",
      "Epoch 77/500\n",
      "1/1 [==============================] - 0s 996us/step - loss: 11.7495 - dense_3_loss: 11.1405 - dense_4_loss: 0.6090\n",
      "Epoch 78/500\n",
      "1/1 [==============================] - 0s 1ms/step - loss: 11.7195 - dense_3_loss: 11.1138 - dense_4_loss: 0.6057\n",
      "Epoch 79/500\n",
      "1/1 [==============================] - 0s 997us/step - loss: 11.6898 - dense_3_loss: 11.0872 - dense_4_loss: 0.6026\n",
      "Epoch 80/500\n",
      "1/1 [==============================] - 0s 997us/step - loss: 11.6604 - dense_3_loss: 11.0609 - dense_4_loss: 0.5995\n",
      "Epoch 81/500\n",
      "1/1 [==============================] - 0s 1ms/step - loss: 11.6312 - dense_3_loss: 11.0347 - dense_4_loss: 0.5965\n",
      "Epoch 82/500\n",
      "1/1 [==============================] - 0s 1ms/step - loss: 11.6023 - dense_3_loss: 11.0087 - dense_4_loss: 0.5936\n",
      "Epoch 83/500\n",
      "1/1 [==============================] - 0s 1ms/step - loss: 11.5738 - dense_3_loss: 10.9829 - dense_4_loss: 0.5909\n",
      "Epoch 84/500\n",
      "1/1 [==============================] - 0s 1ms/step - loss: 11.5455 - dense_3_loss: 10.9573 - dense_4_loss: 0.5882\n",
      "Epoch 85/500\n",
      "1/1 [==============================] - 0s 0s/step - loss: 11.5174 - dense_3_loss: 10.9318 - dense_4_loss: 0.5856\n",
      "Epoch 86/500\n",
      "1/1 [==============================] - 0s 705us/step - loss: 11.4896 - dense_3_loss: 10.9065 - dense_4_loss: 0.5831\n",
      "Epoch 87/500\n",
      "1/1 [==============================] - 0s 2ms/step - loss: 11.4621 - dense_3_loss: 10.8814 - dense_4_loss: 0.5807\n",
      "Epoch 88/500\n",
      "1/1 [==============================] - 0s 997us/step - loss: 11.4351 - dense_3_loss: 10.8567 - dense_4_loss: 0.5784\n",
      "Epoch 89/500\n",
      "1/1 [==============================] - 0s 1ms/step - loss: 11.4085 - dense_3_loss: 10.8323 - dense_4_loss: 0.5762\n",
      "Epoch 90/500\n",
      "1/1 [==============================] - 0s 1ms/step - loss: 11.3826 - dense_3_loss: 10.8084 - dense_4_loss: 0.5741\n",
      "Epoch 91/500\n",
      "1/1 [==============================] - 0s 2ms/step - loss: 11.3570 - dense_3_loss: 10.7849 - dense_4_loss: 0.5722\n",
      "Epoch 92/500\n",
      "1/1 [==============================] - 0s 1ms/step - loss: 11.3317 - dense_3_loss: 10.7614 - dense_4_loss: 0.5703\n",
      "Epoch 93/500\n",
      "1/1 [==============================] - 0s 2ms/step - loss: 11.3067 - dense_3_loss: 10.7382 - dense_4_loss: 0.5685\n",
      "Epoch 94/500\n",
      "1/1 [==============================] - 0s 2ms/step - loss: 11.2821 - dense_3_loss: 10.7153 - dense_4_loss: 0.5668\n",
      "Epoch 95/500\n",
      "1/1 [==============================] - 0s 1ms/step - loss: 11.2581 - dense_3_loss: 10.6929 - dense_4_loss: 0.5653\n",
      "Epoch 96/500\n",
      "1/1 [==============================] - 0s 2ms/step - loss: 11.2346 - dense_3_loss: 10.6708 - dense_4_loss: 0.5638\n",
      "Epoch 97/500\n",
      "1/1 [==============================] - 0s 1ms/step - loss: 11.2113 - dense_3_loss: 10.6489 - dense_4_loss: 0.5624\n",
      "Epoch 98/500\n",
      "1/1 [==============================] - 0s 1ms/step - loss: 11.1884 - dense_3_loss: 10.6272 - dense_4_loss: 0.5612\n",
      "Epoch 99/500\n",
      "1/1 [==============================] - 0s 996us/step - loss: 11.1658 - dense_3_loss: 10.6058 - dense_4_loss: 0.5600\n",
      "Epoch 100/500\n",
      "1/1 [==============================] - 0s 2ms/step - loss: 11.1435 - dense_3_loss: 10.5846 - dense_4_loss: 0.5589\n",
      "Epoch 101/500\n",
      "1/1 [==============================] - 0s 996us/step - loss: 11.1215 - dense_3_loss: 10.5635 - dense_4_loss: 0.5580\n",
      "Epoch 102/500\n",
      "1/1 [==============================] - 0s 1ms/step - loss: 11.0997 - dense_3_loss: 10.5426 - dense_4_loss: 0.5571\n",
      "Epoch 103/500\n",
      "1/1 [==============================] - 0s 2ms/step - loss: 11.0782 - dense_3_loss: 10.5219 - dense_4_loss: 0.5563\n",
      "Epoch 104/500\n",
      "1/1 [==============================] - 0s 2ms/step - loss: 11.0569 - dense_3_loss: 10.5013 - dense_4_loss: 0.5556\n",
      "Epoch 105/500\n",
      "1/1 [==============================] - 0s 2ms/step - loss: 11.0359 - dense_3_loss: 10.4809 - dense_4_loss: 0.5550\n",
      "Epoch 106/500\n",
      "1/1 [==============================] - 0s 3ms/step - loss: 11.0152 - dense_3_loss: 10.4607 - dense_4_loss: 0.5545\n",
      "Epoch 107/500\n",
      "1/1 [==============================] - 0s 4ms/step - loss: 10.9946 - dense_3_loss: 10.4406 - dense_4_loss: 0.5540\n",
      "Epoch 108/500\n",
      "1/1 [==============================] - 0s 3ms/step - loss: 10.9745 - dense_3_loss: 10.4208 - dense_4_loss: 0.5536\n",
      "Epoch 109/500\n",
      "1/1 [==============================] - 0s 2ms/step - loss: 10.9548 - dense_3_loss: 10.4014 - dense_4_loss: 0.5534\n",
      "Epoch 110/500\n",
      "1/1 [==============================] - 0s 4ms/step - loss: 10.9356 - dense_3_loss: 10.3824 - dense_4_loss: 0.5532\n",
      "Epoch 111/500\n",
      "1/1 [==============================] - 0s 3ms/step - loss: 10.9166 - dense_3_loss: 10.3636 - dense_4_loss: 0.5530\n",
      "Epoch 112/500\n",
      "1/1 [==============================] - 0s 6ms/step - loss: 10.8982 - dense_3_loss: 10.3453 - dense_4_loss: 0.5529\n",
      "Epoch 113/500\n",
      "1/1 [==============================] - 0s 6ms/step - loss: 10.8803 - dense_3_loss: 10.3273 - dense_4_loss: 0.5529\n",
      "Epoch 114/500\n",
      "1/1 [==============================] - 0s 3ms/step - loss: 10.8626 - dense_3_loss: 10.3096 - dense_4_loss: 0.5530\n",
      "Epoch 115/500\n",
      "1/1 [==============================] - 0s 3ms/step - loss: 10.8452 - dense_3_loss: 10.2921 - dense_4_loss: 0.5531\n",
      "Epoch 116/500\n",
      "1/1 [==============================] - 0s 3ms/step - loss: 10.8281 - dense_3_loss: 10.2749 - dense_4_loss: 0.5533\n",
      "Epoch 117/500\n",
      "1/1 [==============================] - 0s 4ms/step - loss: 10.8113 - dense_3_loss: 10.2579 - dense_4_loss: 0.5535\n",
      "Epoch 118/500\n",
      "1/1 [==============================] - 0s 4ms/step - loss: 10.7948 - dense_3_loss: 10.2411 - dense_4_loss: 0.5537\n",
      "Epoch 119/500\n",
      "1/1 [==============================] - 0s 5ms/step - loss: 10.7785 - dense_3_loss: 10.2244 - dense_4_loss: 0.5540\n",
      "Epoch 120/500\n",
      "1/1 [==============================] - 0s 6ms/step - loss: 10.7624 - dense_3_loss: 10.2080 - dense_4_loss: 0.5544\n",
      "Epoch 121/500\n",
      "1/1 [==============================] - 0s 7ms/step - loss: 10.7466 - dense_3_loss: 10.1918 - dense_4_loss: 0.5548\n",
      "Epoch 122/500\n",
      "1/1 [==============================] - 0s 4ms/step - loss: 10.7309 - dense_3_loss: 10.1758 - dense_4_loss: 0.5552\n",
      "Epoch 123/500\n",
      "1/1 [==============================] - 0s 4ms/step - loss: 10.7157 - dense_3_loss: 10.1601 - dense_4_loss: 0.5556\n",
      "Epoch 124/500\n",
      "1/1 [==============================] - 0s 5ms/step - loss: 10.7007 - dense_3_loss: 10.1447 - dense_4_loss: 0.5560\n",
      "Epoch 125/500\n",
      "1/1 [==============================] - 0s 5ms/step - loss: 10.6861 - dense_3_loss: 10.1296 - dense_4_loss: 0.5565\n",
      "Epoch 126/500\n",
      "1/1 [==============================] - 0s 4ms/step - loss: 10.6719 - dense_3_loss: 10.1149 - dense_4_loss: 0.5570\n",
      "Epoch 127/500\n",
      "1/1 [==============================] - 0s 4ms/step - loss: 10.6578 - dense_3_loss: 10.1003 - dense_4_loss: 0.5575\n",
      "Epoch 128/500\n",
      "1/1 [==============================] - 0s 6ms/step - loss: 10.6438 - dense_3_loss: 10.0858 - dense_4_loss: 0.5580\n",
      "Epoch 129/500\n"
     ]
    },
    {
     "name": "stdout",
     "output_type": "stream",
     "text": [
      "1/1 [==============================] - 0s 6ms/step - loss: 10.6300 - dense_3_loss: 10.0714 - dense_4_loss: 0.5586\n",
      "Epoch 130/500\n",
      "1/1 [==============================] - 0s 3ms/step - loss: 10.6162 - dense_3_loss: 10.0572 - dense_4_loss: 0.5591\n",
      "Epoch 131/500\n",
      "1/1 [==============================] - 0s 4ms/step - loss: 10.6028 - dense_3_loss: 10.0432 - dense_4_loss: 0.5596\n",
      "Epoch 132/500\n",
      "1/1 [==============================] - 0s 4ms/step - loss: 10.5896 - dense_3_loss: 10.0295 - dense_4_loss: 0.5601\n",
      "Epoch 133/500\n",
      "1/1 [==============================] - 0s 7ms/step - loss: 10.5766 - dense_3_loss: 10.0160 - dense_4_loss: 0.5606\n",
      "Epoch 134/500\n",
      "1/1 [==============================] - 0s 4ms/step - loss: 10.5638 - dense_3_loss: 10.0026 - dense_4_loss: 0.5612\n",
      "Epoch 135/500\n",
      "1/1 [==============================] - 0s 5ms/step - loss: 10.5510 - dense_3_loss: 9.9893 - dense_4_loss: 0.5617\n",
      "Epoch 136/500\n",
      "1/1 [==============================] - 0s 4ms/step - loss: 10.5383 - dense_3_loss: 9.9761 - dense_4_loss: 0.5622\n",
      "Epoch 137/500\n",
      "1/1 [==============================] - 0s 4ms/step - loss: 10.5256 - dense_3_loss: 9.9630 - dense_4_loss: 0.5626\n",
      "Epoch 138/500\n",
      "1/1 [==============================] - 0s 4ms/step - loss: 10.5131 - dense_3_loss: 9.9499 - dense_4_loss: 0.5631\n",
      "Epoch 139/500\n",
      "1/1 [==============================] - 0s 4ms/step - loss: 10.5006 - dense_3_loss: 9.9371 - dense_4_loss: 0.5636\n",
      "Epoch 140/500\n",
      "1/1 [==============================] - 0s 7ms/step - loss: 10.4883 - dense_3_loss: 9.9243 - dense_4_loss: 0.5640\n",
      "Epoch 141/500\n",
      "1/1 [==============================] - 0s 5ms/step - loss: 10.4762 - dense_3_loss: 9.9118 - dense_4_loss: 0.5644\n",
      "Epoch 142/500\n",
      "1/1 [==============================] - 0s 3ms/step - loss: 10.4643 - dense_3_loss: 9.8995 - dense_4_loss: 0.5648\n",
      "Epoch 143/500\n",
      "1/1 [==============================] - 0s 4ms/step - loss: 10.4525 - dense_3_loss: 9.8874 - dense_4_loss: 0.5652\n",
      "Epoch 144/500\n",
      "1/1 [==============================] - 0s 5ms/step - loss: 10.4408 - dense_3_loss: 9.8753 - dense_4_loss: 0.5655\n",
      "Epoch 145/500\n",
      "1/1 [==============================] - 0s 6ms/step - loss: 10.4293 - dense_3_loss: 9.8634 - dense_4_loss: 0.5658\n",
      "Epoch 146/500\n",
      "1/1 [==============================] - 0s 5ms/step - loss: 10.4178 - dense_3_loss: 9.8516 - dense_4_loss: 0.5661\n",
      "Epoch 147/500\n",
      "1/1 [==============================] - 0s 4ms/step - loss: 10.4063 - dense_3_loss: 9.8399 - dense_4_loss: 0.5664\n",
      "Epoch 148/500\n",
      "1/1 [==============================] - 0s 4ms/step - loss: 10.3948 - dense_3_loss: 9.8282 - dense_4_loss: 0.5666\n",
      "Epoch 149/500\n",
      "1/1 [==============================] - 0s 4ms/step - loss: 10.3834 - dense_3_loss: 9.8165 - dense_4_loss: 0.5669\n",
      "Epoch 150/500\n",
      "1/1 [==============================] - 0s 4ms/step - loss: 10.3720 - dense_3_loss: 9.8050 - dense_4_loss: 0.5670\n",
      "Epoch 151/500\n",
      "1/1 [==============================] - 0s 3ms/step - loss: 10.3611 - dense_3_loss: 9.7939 - dense_4_loss: 0.5672\n",
      "Epoch 152/500\n",
      "1/1 [==============================] - 0s 3ms/step - loss: 10.3503 - dense_3_loss: 9.7829 - dense_4_loss: 0.5673\n",
      "Epoch 153/500\n",
      "1/1 [==============================] - 0s 4ms/step - loss: 10.3394 - dense_3_loss: 9.7720 - dense_4_loss: 0.5674\n",
      "Epoch 154/500\n",
      "1/1 [==============================] - 0s 3ms/step - loss: 10.3290 - dense_3_loss: 9.7615 - dense_4_loss: 0.5675\n",
      "Epoch 155/500\n",
      "1/1 [==============================] - 0s 5ms/step - loss: 10.3187 - dense_3_loss: 9.7512 - dense_4_loss: 0.5675\n",
      "Epoch 156/500\n",
      "1/1 [==============================] - 0s 3ms/step - loss: 10.3088 - dense_3_loss: 9.7412 - dense_4_loss: 0.5675\n",
      "Epoch 157/500\n",
      "1/1 [==============================] - 0s 3ms/step - loss: 10.2989 - dense_3_loss: 9.7314 - dense_4_loss: 0.5675\n",
      "Epoch 158/500\n",
      "1/1 [==============================] - 0s 6ms/step - loss: 10.2891 - dense_3_loss: 9.7217 - dense_4_loss: 0.5674\n",
      "Epoch 159/500\n",
      "1/1 [==============================] - 0s 5ms/step - loss: 10.2794 - dense_3_loss: 9.7121 - dense_4_loss: 0.5674\n",
      "Epoch 160/500\n",
      "1/1 [==============================] - 0s 4ms/step - loss: 10.2698 - dense_3_loss: 9.7026 - dense_4_loss: 0.5672\n",
      "Epoch 161/500\n",
      "1/1 [==============================] - 0s 4ms/step - loss: 10.2602 - dense_3_loss: 9.6931 - dense_4_loss: 0.5671\n",
      "Epoch 162/500\n",
      "1/1 [==============================] - 0s 5ms/step - loss: 10.2507 - dense_3_loss: 9.6837 - dense_4_loss: 0.5669\n",
      "Epoch 163/500\n",
      "1/1 [==============================] - 0s 4ms/step - loss: 10.2411 - dense_3_loss: 9.6744 - dense_4_loss: 0.5667\n",
      "Epoch 164/500\n",
      "1/1 [==============================] - 0s 4ms/step - loss: 10.2317 - dense_3_loss: 9.6651 - dense_4_loss: 0.5665\n",
      "Epoch 165/500\n",
      "1/1 [==============================] - 0s 3ms/step - loss: 10.2227 - dense_3_loss: 9.6565 - dense_4_loss: 0.5663\n",
      "Epoch 166/500\n",
      "1/1 [==============================] - 0s 4ms/step - loss: 10.2139 - dense_3_loss: 9.6479 - dense_4_loss: 0.5660\n",
      "Epoch 167/500\n",
      "1/1 [==============================] - 0s 6ms/step - loss: 10.2051 - dense_3_loss: 9.6393 - dense_4_loss: 0.5657\n",
      "Epoch 168/500\n",
      "1/1 [==============================] - 0s 3ms/step - loss: 10.1963 - dense_3_loss: 9.6309 - dense_4_loss: 0.5654\n",
      "Epoch 169/500\n",
      "1/1 [==============================] - 0s 3ms/step - loss: 10.1876 - dense_3_loss: 9.6225 - dense_4_loss: 0.5651\n",
      "Epoch 170/500\n",
      "1/1 [==============================] - 0s 3ms/step - loss: 10.1789 - dense_3_loss: 9.6141 - dense_4_loss: 0.5648\n",
      "Epoch 171/500\n",
      "1/1 [==============================] - 0s 4ms/step - loss: 10.1702 - dense_3_loss: 9.6058 - dense_4_loss: 0.5644\n",
      "Epoch 172/500\n",
      "1/1 [==============================] - 0s 6ms/step - loss: 10.1616 - dense_3_loss: 9.5976 - dense_4_loss: 0.5641\n",
      "Epoch 173/500\n",
      "1/1 [==============================] - 0s 3ms/step - loss: 10.1531 - dense_3_loss: 9.5894 - dense_4_loss: 0.5637\n",
      "Epoch 174/500\n",
      "1/1 [==============================] - 0s 4ms/step - loss: 10.1445 - dense_3_loss: 9.5812 - dense_4_loss: 0.5633\n",
      "Epoch 175/500\n",
      "1/1 [==============================] - 0s 5ms/step - loss: 10.1362 - dense_3_loss: 9.5732 - dense_4_loss: 0.5629\n",
      "Epoch 176/500\n",
      "1/1 [==============================] - 0s 4ms/step - loss: 10.1280 - dense_3_loss: 9.5655 - dense_4_loss: 0.5625\n",
      "Epoch 177/500\n",
      "1/1 [==============================] - 0s 3ms/step - loss: 10.1200 - dense_3_loss: 9.5578 - dense_4_loss: 0.5621\n",
      "Epoch 178/500\n",
      "1/1 [==============================] - 0s 6ms/step - loss: 10.1120 - dense_3_loss: 9.5503 - dense_4_loss: 0.5617\n",
      "Epoch 179/500\n",
      "1/1 [==============================] - 0s 4ms/step - loss: 10.1043 - dense_3_loss: 9.5429 - dense_4_loss: 0.5613\n",
      "Epoch 180/500\n",
      "1/1 [==============================] - 0s 4ms/step - loss: 10.0968 - dense_3_loss: 9.5358 - dense_4_loss: 0.5609\n",
      "Epoch 181/500\n",
      "1/1 [==============================] - 0s 6ms/step - loss: 10.0894 - dense_3_loss: 9.5289 - dense_4_loss: 0.5605\n",
      "Epoch 182/500\n",
      "1/1 [==============================] - 0s 5ms/step - loss: 10.0821 - dense_3_loss: 9.5219 - dense_4_loss: 0.5601\n",
      "Epoch 183/500\n",
      "1/1 [==============================] - 0s 6ms/step - loss: 10.0749 - dense_3_loss: 9.5151 - dense_4_loss: 0.5597\n",
      "Epoch 184/500\n",
      "1/1 [==============================] - 0s 3ms/step - loss: 10.0677 - dense_3_loss: 9.5084 - dense_4_loss: 0.5593\n",
      "Epoch 185/500\n",
      "1/1 [==============================] - 0s 5ms/step - loss: 10.0608 - dense_3_loss: 9.5018 - dense_4_loss: 0.5589\n",
      "Epoch 186/500\n",
      "1/1 [==============================] - 0s 5ms/step - loss: 10.0538 - dense_3_loss: 9.4953 - dense_4_loss: 0.5586\n",
      "Epoch 187/500\n",
      "1/1 [==============================] - 0s 4ms/step - loss: 10.0469 - dense_3_loss: 9.4887 - dense_4_loss: 0.5582\n",
      "Epoch 188/500\n",
      "1/1 [==============================] - 0s 5ms/step - loss: 10.0402 - dense_3_loss: 9.4823 - dense_4_loss: 0.5578\n",
      "Epoch 189/500\n",
      "1/1 [==============================] - 0s 6ms/step - loss: 10.0335 - dense_3_loss: 9.4760 - dense_4_loss: 0.5575\n",
      "Epoch 190/500\n",
      "1/1 [==============================] - 0s 6ms/step - loss: 10.0270 - dense_3_loss: 9.4698 - dense_4_loss: 0.5572\n",
      "Epoch 191/500\n",
      "1/1 [==============================] - 0s 5ms/step - loss: 10.0205 - dense_3_loss: 9.4637 - dense_4_loss: 0.5568\n",
      "Epoch 192/500\n",
      "1/1 [==============================] - 0s 3ms/step - loss: 10.0141 - dense_3_loss: 9.4576 - dense_4_loss: 0.5565\n",
      "Epoch 193/500\n"
     ]
    },
    {
     "name": "stdout",
     "output_type": "stream",
     "text": [
      "1/1 [==============================] - 0s 3ms/step - loss: 10.0078 - dense_3_loss: 9.4516 - dense_4_loss: 0.5562\n",
      "Epoch 194/500\n",
      "1/1 [==============================] - 0s 3ms/step - loss: 10.0015 - dense_3_loss: 9.4456 - dense_4_loss: 0.5559\n",
      "Epoch 195/500\n",
      "1/1 [==============================] - 0s 7ms/step - loss: 9.9953 - dense_3_loss: 9.4396 - dense_4_loss: 0.5557\n",
      "Epoch 196/500\n",
      "1/1 [==============================] - 0s 6ms/step - loss: 9.9891 - dense_3_loss: 9.4337 - dense_4_loss: 0.5554\n",
      "Epoch 197/500\n",
      "1/1 [==============================] - 0s 4ms/step - loss: 9.9831 - dense_3_loss: 9.4279 - dense_4_loss: 0.5552\n",
      "Epoch 198/500\n",
      "1/1 [==============================] - 0s 8ms/step - loss: 9.9771 - dense_3_loss: 9.4221 - dense_4_loss: 0.5550\n",
      "Epoch 199/500\n",
      "1/1 [==============================] - 0s 3ms/step - loss: 9.9711 - dense_3_loss: 9.4163 - dense_4_loss: 0.5548\n",
      "Epoch 200/500\n",
      "1/1 [==============================] - 0s 7ms/step - loss: 9.9652 - dense_3_loss: 9.4106 - dense_4_loss: 0.5546\n",
      "Epoch 201/500\n",
      "1/1 [==============================] - 0s 6ms/step - loss: 9.9595 - dense_3_loss: 9.4051 - dense_4_loss: 0.5544\n",
      "Epoch 202/500\n",
      "1/1 [==============================] - 0s 4ms/step - loss: 9.9539 - dense_3_loss: 9.3997 - dense_4_loss: 0.5542\n",
      "Epoch 203/500\n",
      "1/1 [==============================] - 0s 5ms/step - loss: 9.9485 - dense_3_loss: 9.3944 - dense_4_loss: 0.5541\n",
      "Epoch 204/500\n",
      "1/1 [==============================] - 0s 3ms/step - loss: 9.9431 - dense_3_loss: 9.3891 - dense_4_loss: 0.5540\n",
      "Epoch 205/500\n",
      "1/1 [==============================] - 0s 4ms/step - loss: 9.9377 - dense_3_loss: 9.3839 - dense_4_loss: 0.5538\n",
      "Epoch 206/500\n",
      "1/1 [==============================] - 0s 4ms/step - loss: 9.9324 - dense_3_loss: 9.3787 - dense_4_loss: 0.5537\n",
      "Epoch 207/500\n",
      "1/1 [==============================] - 0s 6ms/step - loss: 9.9271 - dense_3_loss: 9.3735 - dense_4_loss: 0.5536\n",
      "Epoch 208/500\n",
      "1/1 [==============================] - 0s 5ms/step - loss: 9.9219 - dense_3_loss: 9.3684 - dense_4_loss: 0.5535\n",
      "Epoch 209/500\n",
      "1/1 [==============================] - 0s 4ms/step - loss: 9.9167 - dense_3_loss: 9.3633 - dense_4_loss: 0.5534\n",
      "Epoch 210/500\n",
      "1/1 [==============================] - 0s 3ms/step - loss: 9.9117 - dense_3_loss: 9.3583 - dense_4_loss: 0.5534\n",
      "Epoch 211/500\n",
      "1/1 [==============================] - 0s 3ms/step - loss: 9.9067 - dense_3_loss: 9.3534 - dense_4_loss: 0.5533\n",
      "Epoch 212/500\n",
      "1/1 [==============================] - 0s 4ms/step - loss: 9.9018 - dense_3_loss: 9.3485 - dense_4_loss: 0.5533\n",
      "Epoch 213/500\n",
      "1/1 [==============================] - 0s 4ms/step - loss: 9.8969 - dense_3_loss: 9.3437 - dense_4_loss: 0.5532\n",
      "Epoch 214/500\n",
      "1/1 [==============================] - 0s 3ms/step - loss: 9.8922 - dense_3_loss: 9.3390 - dense_4_loss: 0.5532\n",
      "Epoch 215/500\n",
      "1/1 [==============================] - 0s 6ms/step - loss: 9.8876 - dense_3_loss: 9.3345 - dense_4_loss: 0.5531\n",
      "Epoch 216/500\n",
      "1/1 [==============================] - 0s 4ms/step - loss: 9.8831 - dense_3_loss: 9.3300 - dense_4_loss: 0.5531\n",
      "Epoch 217/500\n",
      "1/1 [==============================] - 0s 3ms/step - loss: 9.8787 - dense_3_loss: 9.3256 - dense_4_loss: 0.5531\n",
      "Epoch 218/500\n",
      "1/1 [==============================] - 0s 4ms/step - loss: 9.8743 - dense_3_loss: 9.3213 - dense_4_loss: 0.5530\n",
      "Epoch 219/500\n",
      "1/1 [==============================] - 0s 5ms/step - loss: 9.8701 - dense_3_loss: 9.3171 - dense_4_loss: 0.5530\n",
      "Epoch 220/500\n",
      "1/1 [==============================] - 0s 4ms/step - loss: 9.8659 - dense_3_loss: 9.3129 - dense_4_loss: 0.5530\n",
      "Epoch 221/500\n",
      "1/1 [==============================] - 0s 6ms/step - loss: 9.8617 - dense_3_loss: 9.3088 - dense_4_loss: 0.5530\n",
      "Epoch 222/500\n",
      "1/1 [==============================] - 0s 5ms/step - loss: 9.8577 - dense_3_loss: 9.3047 - dense_4_loss: 0.5530\n",
      "Epoch 223/500\n",
      "1/1 [==============================] - 0s 7ms/step - loss: 9.8536 - dense_3_loss: 9.3007 - dense_4_loss: 0.5530\n",
      "Epoch 224/500\n",
      "1/1 [==============================] - 0s 4ms/step - loss: 9.8496 - dense_3_loss: 9.2967 - dense_4_loss: 0.5529\n",
      "Epoch 225/500\n",
      "1/1 [==============================] - 0s 4ms/step - loss: 9.8457 - dense_3_loss: 9.2928 - dense_4_loss: 0.5529\n",
      "Epoch 226/500\n",
      "1/1 [==============================] - 0s 7ms/step - loss: 9.8419 - dense_3_loss: 9.2889 - dense_4_loss: 0.5529\n",
      "Epoch 227/500\n",
      "1/1 [==============================] - 0s 3ms/step - loss: 9.8380 - dense_3_loss: 9.2851 - dense_4_loss: 0.5529\n",
      "Epoch 228/500\n",
      "1/1 [==============================] - 0s 6ms/step - loss: 9.8343 - dense_3_loss: 9.2814 - dense_4_loss: 0.5529\n",
      "Epoch 229/500\n",
      "1/1 [==============================] - 0s 4ms/step - loss: 9.8307 - dense_3_loss: 9.2778 - dense_4_loss: 0.5529\n",
      "Epoch 230/500\n",
      "1/1 [==============================] - 0s 5ms/step - loss: 9.8273 - dense_3_loss: 9.2743 - dense_4_loss: 0.5529\n",
      "Epoch 231/500\n",
      "1/1 [==============================] - 0s 4ms/step - loss: 9.8238 - dense_3_loss: 9.2709 - dense_4_loss: 0.5529\n",
      "Epoch 232/500\n",
      "1/1 [==============================] - 0s 4ms/step - loss: 9.8206 - dense_3_loss: 9.2676 - dense_4_loss: 0.5529\n",
      "Epoch 233/500\n",
      "1/1 [==============================] - 0s 5ms/step - loss: 9.8174 - dense_3_loss: 9.2645 - dense_4_loss: 0.5529\n",
      "Epoch 234/500\n",
      "1/1 [==============================] - 0s 3ms/step - loss: 9.8144 - dense_3_loss: 9.2614 - dense_4_loss: 0.5529\n",
      "Epoch 235/500\n",
      "1/1 [==============================] - 0s 5ms/step - loss: 9.8114 - dense_3_loss: 9.2585 - dense_4_loss: 0.5529\n",
      "Epoch 236/500\n",
      "1/1 [==============================] - 0s 3ms/step - loss: 9.8085 - dense_3_loss: 9.2556 - dense_4_loss: 0.5529\n",
      "Epoch 237/500\n",
      "1/1 [==============================] - 0s 5ms/step - loss: 9.8056 - dense_3_loss: 9.2527 - dense_4_loss: 0.5529\n",
      "Epoch 238/500\n",
      "1/1 [==============================] - 0s 5ms/step - loss: 9.8028 - dense_3_loss: 9.2499 - dense_4_loss: 0.5529\n",
      "Epoch 239/500\n",
      "1/1 [==============================] - 0s 4ms/step - loss: 9.8000 - dense_3_loss: 9.2471 - dense_4_loss: 0.5529\n",
      "Epoch 240/500\n",
      "1/1 [==============================] - 0s 4ms/step - loss: 9.7972 - dense_3_loss: 9.2443 - dense_4_loss: 0.5529\n",
      "Epoch 241/500\n",
      "1/1 [==============================] - 0s 4ms/step - loss: 9.7945 - dense_3_loss: 9.2416 - dense_4_loss: 0.5529\n",
      "Epoch 242/500\n",
      "1/1 [==============================] - 0s 3ms/step - loss: 9.7918 - dense_3_loss: 9.2389 - dense_4_loss: 0.5529\n",
      "Epoch 243/500\n",
      "1/1 [==============================] - 0s 3ms/step - loss: 9.7891 - dense_3_loss: 9.2361 - dense_4_loss: 0.5529\n",
      "Epoch 244/500\n",
      "1/1 [==============================] - 0s 3ms/step - loss: 9.7864 - dense_3_loss: 9.2335 - dense_4_loss: 0.5529\n",
      "Epoch 245/500\n",
      "1/1 [==============================] - 0s 5ms/step - loss: 9.7837 - dense_3_loss: 9.2308 - dense_4_loss: 0.5529\n",
      "Epoch 246/500\n",
      "1/1 [==============================] - 0s 4ms/step - loss: 9.7810 - dense_3_loss: 9.2281 - dense_4_loss: 0.5529\n",
      "Epoch 247/500\n",
      "1/1 [==============================] - 0s 4ms/step - loss: 9.7784 - dense_3_loss: 9.2254 - dense_4_loss: 0.5529\n",
      "Epoch 248/500\n",
      "1/1 [==============================] - 0s 4ms/step - loss: 9.7757 - dense_3_loss: 9.2228 - dense_4_loss: 0.5529\n",
      "Epoch 249/500\n",
      "1/1 [==============================] - 0s 4ms/step - loss: 9.7731 - dense_3_loss: 9.2202 - dense_4_loss: 0.5529\n",
      "Epoch 250/500\n",
      "1/1 [==============================] - 0s 3ms/step - loss: 9.7705 - dense_3_loss: 9.2176 - dense_4_loss: 0.5529\n",
      "Epoch 251/500\n",
      "1/1 [==============================] - 0s 5ms/step - loss: 9.7679 - dense_3_loss: 9.2150 - dense_4_loss: 0.5529\n",
      "Epoch 252/500\n",
      "1/1 [==============================] - 0s 5ms/step - loss: 9.7653 - dense_3_loss: 9.2124 - dense_4_loss: 0.5529\n",
      "Epoch 253/500\n",
      "1/1 [==============================] - 0s 4ms/step - loss: 9.7628 - dense_3_loss: 9.2099 - dense_4_loss: 0.5529\n",
      "Epoch 254/500\n",
      "1/1 [==============================] - 0s 5ms/step - loss: 9.7604 - dense_3_loss: 9.2074 - dense_4_loss: 0.5529\n",
      "Epoch 255/500\n",
      "1/1 [==============================] - 0s 5ms/step - loss: 9.7581 - dense_3_loss: 9.2051 - dense_4_loss: 0.5529\n",
      "Epoch 256/500\n",
      "1/1 [==============================] - 0s 5ms/step - loss: 9.7560 - dense_3_loss: 9.2031 - dense_4_loss: 0.5529\n",
      "Epoch 257/500\n",
      "1/1 [==============================] - 0s 4ms/step - loss: 9.7541 - dense_3_loss: 9.2012 - dense_4_loss: 0.5529\n",
      "Epoch 258/500\n"
     ]
    },
    {
     "name": "stdout",
     "output_type": "stream",
     "text": [
      "1/1 [==============================] - 0s 3ms/step - loss: 9.7523 - dense_3_loss: 9.1993 - dense_4_loss: 0.5529\n",
      "Epoch 259/500\n",
      "1/1 [==============================] - 0s 5ms/step - loss: 9.7505 - dense_3_loss: 9.1976 - dense_4_loss: 0.5529\n",
      "Epoch 260/500\n",
      "1/1 [==============================] - 0s 3ms/step - loss: 9.7491 - dense_3_loss: 9.1962 - dense_4_loss: 0.5529\n",
      "Epoch 261/500\n",
      "1/1 [==============================] - 0s 4ms/step - loss: 9.7478 - dense_3_loss: 9.1949 - dense_4_loss: 0.5529\n",
      "Epoch 262/500\n",
      "1/1 [==============================] - 0s 6ms/step - loss: 9.7466 - dense_3_loss: 9.1937 - dense_4_loss: 0.5529\n",
      "Epoch 263/500\n",
      "1/1 [==============================] - 0s 3ms/step - loss: 9.7456 - dense_3_loss: 9.1927 - dense_4_loss: 0.5529\n",
      "Epoch 264/500\n",
      "1/1 [==============================] - 0s 5ms/step - loss: 9.7445 - dense_3_loss: 9.1916 - dense_4_loss: 0.5529\n",
      "Epoch 265/500\n",
      "1/1 [==============================] - 0s 6ms/step - loss: 9.7435 - dense_3_loss: 9.1906 - dense_4_loss: 0.5529\n",
      "Epoch 266/500\n",
      "1/1 [==============================] - 0s 7ms/step - loss: 9.7426 - dense_3_loss: 9.1897 - dense_4_loss: 0.5529\n",
      "Epoch 267/500\n",
      "1/1 [==============================] - 0s 3ms/step - loss: 9.7416 - dense_3_loss: 9.1887 - dense_4_loss: 0.5529\n",
      "Epoch 268/500\n",
      "1/1 [==============================] - 0s 4ms/step - loss: 9.7407 - dense_3_loss: 9.1878 - dense_4_loss: 0.5529\n",
      "Epoch 269/500\n",
      "1/1 [==============================] - 0s 5ms/step - loss: 9.7398 - dense_3_loss: 9.1870 - dense_4_loss: 0.5529\n",
      "Epoch 270/500\n",
      "1/1 [==============================] - 0s 3ms/step - loss: 9.7390 - dense_3_loss: 9.1861 - dense_4_loss: 0.5529\n",
      "Epoch 271/500\n",
      "1/1 [==============================] - 0s 5ms/step - loss: 9.7381 - dense_3_loss: 9.1853 - dense_4_loss: 0.5529\n",
      "Epoch 272/500\n",
      "1/1 [==============================] - 0s 4ms/step - loss: 9.7373 - dense_3_loss: 9.1844 - dense_4_loss: 0.5529\n",
      "Epoch 273/500\n",
      "1/1 [==============================] - 0s 5ms/step - loss: 9.7365 - dense_3_loss: 9.1836 - dense_4_loss: 0.5529\n",
      "Epoch 274/500\n",
      "1/1 [==============================] - 0s 7ms/step - loss: 9.7357 - dense_3_loss: 9.1829 - dense_4_loss: 0.5529\n",
      "Epoch 275/500\n",
      "1/1 [==============================] - 0s 4ms/step - loss: 9.7349 - dense_3_loss: 9.1821 - dense_4_loss: 0.5529\n",
      "Epoch 276/500\n",
      "1/1 [==============================] - 0s 4ms/step - loss: 9.7342 - dense_3_loss: 9.1813 - dense_4_loss: 0.5529\n",
      "Epoch 277/500\n",
      "1/1 [==============================] - 0s 3ms/step - loss: 9.7334 - dense_3_loss: 9.1805 - dense_4_loss: 0.5529\n",
      "Epoch 278/500\n",
      "1/1 [==============================] - 0s 3ms/step - loss: 9.7327 - dense_3_loss: 9.1798 - dense_4_loss: 0.5529\n",
      "Epoch 279/500\n",
      "1/1 [==============================] - 0s 5ms/step - loss: 9.7319 - dense_3_loss: 9.1791 - dense_4_loss: 0.5529\n",
      "Epoch 280/500\n",
      "1/1 [==============================] - 0s 4ms/step - loss: 9.7312 - dense_3_loss: 9.1783 - dense_4_loss: 0.5529\n",
      "Epoch 281/500\n",
      "1/1 [==============================] - 0s 3ms/step - loss: 9.7305 - dense_3_loss: 9.1776 - dense_4_loss: 0.5529\n",
      "Epoch 282/500\n",
      "1/1 [==============================] - 0s 4ms/step - loss: 9.7297 - dense_3_loss: 9.1769 - dense_4_loss: 0.5529\n",
      "Epoch 283/500\n",
      "1/1 [==============================] - 0s 6ms/step - loss: 9.7290 - dense_3_loss: 9.1762 - dense_4_loss: 0.5529\n",
      "Epoch 284/500\n",
      "1/1 [==============================] - 0s 4ms/step - loss: 9.7283 - dense_3_loss: 9.1754 - dense_4_loss: 0.5529\n",
      "Epoch 285/500\n",
      "1/1 [==============================] - 0s 6ms/step - loss: 9.7276 - dense_3_loss: 9.1747 - dense_4_loss: 0.5529\n",
      "Epoch 286/500\n",
      "1/1 [==============================] - 0s 6ms/step - loss: 9.7269 - dense_3_loss: 9.1740 - dense_4_loss: 0.5529\n",
      "Epoch 287/500\n",
      "1/1 [==============================] - 0s 5ms/step - loss: 9.7262 - dense_3_loss: 9.1733 - dense_4_loss: 0.5529\n",
      "Epoch 288/500\n",
      "1/1 [==============================] - 0s 7ms/step - loss: 9.7255 - dense_3_loss: 9.1726 - dense_4_loss: 0.5529\n",
      "Epoch 289/500\n",
      "1/1 [==============================] - 0s 6ms/step - loss: 9.7248 - dense_3_loss: 9.1719 - dense_4_loss: 0.5529\n",
      "Epoch 290/500\n",
      "1/1 [==============================] - 0s 5ms/step - loss: 9.7241 - dense_3_loss: 9.1712 - dense_4_loss: 0.5529\n",
      "Epoch 291/500\n",
      "1/1 [==============================] - 0s 5ms/step - loss: 9.7234 - dense_3_loss: 9.1705 - dense_4_loss: 0.5529\n",
      "Epoch 292/500\n",
      "1/1 [==============================] - 0s 6ms/step - loss: 9.7227 - dense_3_loss: 9.1698 - dense_4_loss: 0.5529\n",
      "Epoch 293/500\n",
      "1/1 [==============================] - 0s 6ms/step - loss: 9.7220 - dense_3_loss: 9.1691 - dense_4_loss: 0.5529\n",
      "Epoch 294/500\n",
      "1/1 [==============================] - 0s 5ms/step - loss: 9.7213 - dense_3_loss: 9.1684 - dense_4_loss: 0.5529\n",
      "Epoch 295/500\n",
      "1/1 [==============================] - 0s 3ms/step - loss: 9.7206 - dense_3_loss: 9.1678 - dense_4_loss: 0.5529\n",
      "Epoch 296/500\n",
      "1/1 [==============================] - 0s 3ms/step - loss: 9.7200 - dense_3_loss: 9.1671 - dense_4_loss: 0.5529\n",
      "Epoch 297/500\n",
      "1/1 [==============================] - 0s 6ms/step - loss: 9.7194 - dense_3_loss: 9.1665 - dense_4_loss: 0.5529\n",
      "Epoch 298/500\n",
      "1/1 [==============================] - 0s 4ms/step - loss: 9.7188 - dense_3_loss: 9.1659 - dense_4_loss: 0.5529\n",
      "Epoch 299/500\n",
      "1/1 [==============================] - 0s 4ms/step - loss: 9.7182 - dense_3_loss: 9.1653 - dense_4_loss: 0.5529\n",
      "Epoch 300/500\n",
      "1/1 [==============================] - 0s 3ms/step - loss: 9.7176 - dense_3_loss: 9.1647 - dense_4_loss: 0.5529\n",
      "Epoch 301/500\n",
      "1/1 [==============================] - 0s 5ms/step - loss: 9.7170 - dense_3_loss: 9.1641 - dense_4_loss: 0.5529\n",
      "Epoch 302/500\n",
      "1/1 [==============================] - 0s 5ms/step - loss: 9.7165 - dense_3_loss: 9.1636 - dense_4_loss: 0.5529\n",
      "Epoch 303/500\n",
      "1/1 [==============================] - 0s 4ms/step - loss: 9.7159 - dense_3_loss: 9.1631 - dense_4_loss: 0.5529\n",
      "Epoch 304/500\n",
      "1/1 [==============================] - 0s 4ms/step - loss: 9.7154 - dense_3_loss: 9.1625 - dense_4_loss: 0.5529\n",
      "Epoch 305/500\n",
      "1/1 [==============================] - 0s 6ms/step - loss: 9.7149 - dense_3_loss: 9.1620 - dense_4_loss: 0.5529\n",
      "Epoch 306/500\n",
      "1/1 [==============================] - 0s 4ms/step - loss: 9.7144 - dense_3_loss: 9.1615 - dense_4_loss: 0.5529\n",
      "Epoch 307/500\n",
      "1/1 [==============================] - 0s 4ms/step - loss: 9.7139 - dense_3_loss: 9.1611 - dense_4_loss: 0.5529\n",
      "Epoch 308/500\n",
      "1/1 [==============================] - 0s 3ms/step - loss: 9.7134 - dense_3_loss: 9.1606 - dense_4_loss: 0.5529\n",
      "Epoch 309/500\n",
      "1/1 [==============================] - 0s 7ms/step - loss: 9.7130 - dense_3_loss: 9.1601 - dense_4_loss: 0.5529\n",
      "Epoch 310/500\n",
      "1/1 [==============================] - 0s 4ms/step - loss: 9.7125 - dense_3_loss: 9.1596 - dense_4_loss: 0.5529\n",
      "Epoch 311/500\n",
      "1/1 [==============================] - 0s 6ms/step - loss: 9.7121 - dense_3_loss: 9.1592 - dense_4_loss: 0.5529\n",
      "Epoch 312/500\n",
      "1/1 [==============================] - 0s 4ms/step - loss: 9.7116 - dense_3_loss: 9.1588 - dense_4_loss: 0.5529\n",
      "Epoch 313/500\n",
      "1/1 [==============================] - 0s 7ms/step - loss: 9.7112 - dense_3_loss: 9.1584 - dense_4_loss: 0.5529\n",
      "Epoch 314/500\n",
      "1/1 [==============================] - 0s 4ms/step - loss: 9.7108 - dense_3_loss: 9.1579 - dense_4_loss: 0.5529\n",
      "Epoch 315/500\n",
      "1/1 [==============================] - 0s 4ms/step - loss: 9.7104 - dense_3_loss: 9.1575 - dense_4_loss: 0.5529\n",
      "Epoch 316/500\n",
      "1/1 [==============================] - 0s 5ms/step - loss: 9.7100 - dense_3_loss: 9.1571 - dense_4_loss: 0.5529\n",
      "Epoch 317/500\n",
      "1/1 [==============================] - 0s 5ms/step - loss: 9.7096 - dense_3_loss: 9.1567 - dense_4_loss: 0.5529\n",
      "Epoch 318/500\n",
      "1/1 [==============================] - 0s 5ms/step - loss: 9.7092 - dense_3_loss: 9.1564 - dense_4_loss: 0.5529\n",
      "Epoch 319/500\n",
      "1/1 [==============================] - 0s 4ms/step - loss: 9.7089 - dense_3_loss: 9.1560 - dense_4_loss: 0.5529\n",
      "Epoch 320/500\n",
      "1/1 [==============================] - 0s 4ms/step - loss: 9.7085 - dense_3_loss: 9.1556 - dense_4_loss: 0.5529\n",
      "Epoch 321/500\n",
      "1/1 [==============================] - 0s 3ms/step - loss: 9.7082 - dense_3_loss: 9.1553 - dense_4_loss: 0.5529\n",
      "Epoch 322/500\n",
      "1/1 [==============================] - 0s 3ms/step - loss: 9.7078 - dense_3_loss: 9.1549 - dense_4_loss: 0.5529\n",
      "Epoch 323/500\n"
     ]
    },
    {
     "name": "stdout",
     "output_type": "stream",
     "text": [
      "1/1 [==============================] - 0s 5ms/step - loss: 9.7075 - dense_3_loss: 9.1546 - dense_4_loss: 0.5529\n",
      "Epoch 324/500\n",
      "1/1 [==============================] - 0s 4ms/step - loss: 9.7071 - dense_3_loss: 9.1542 - dense_4_loss: 0.5529\n",
      "Epoch 325/500\n",
      "1/1 [==============================] - 0s 6ms/step - loss: 9.7068 - dense_3_loss: 9.1539 - dense_4_loss: 0.5529\n",
      "Epoch 326/500\n",
      "1/1 [==============================] - 0s 7ms/step - loss: 9.7064 - dense_3_loss: 9.1536 - dense_4_loss: 0.5529\n",
      "Epoch 327/500\n",
      "1/1 [==============================] - 0s 7ms/step - loss: 9.7061 - dense_3_loss: 9.1532 - dense_4_loss: 0.5529\n",
      "Epoch 328/500\n",
      "1/1 [==============================] - 0s 5ms/step - loss: 9.7058 - dense_3_loss: 9.1530 - dense_4_loss: 0.5529\n",
      "Epoch 329/500\n",
      "1/1 [==============================] - 0s 4ms/step - loss: 9.7055 - dense_3_loss: 9.1527 - dense_4_loss: 0.5529\n",
      "Epoch 330/500\n",
      "1/1 [==============================] - 0s 5ms/step - loss: 9.7053 - dense_3_loss: 9.1524 - dense_4_loss: 0.5529\n",
      "Epoch 331/500\n",
      "1/1 [==============================] - 0s 5ms/step - loss: 9.7050 - dense_3_loss: 9.1521 - dense_4_loss: 0.5529\n",
      "Epoch 332/500\n",
      "1/1 [==============================] - 0s 7ms/step - loss: 9.7047 - dense_3_loss: 9.1518 - dense_4_loss: 0.5529\n",
      "Epoch 333/500\n",
      "1/1 [==============================] - 0s 5ms/step - loss: 9.7044 - dense_3_loss: 9.1516 - dense_4_loss: 0.5529\n",
      "Epoch 334/500\n",
      "1/1 [==============================] - 0s 4ms/step - loss: 9.7042 - dense_3_loss: 9.1513 - dense_4_loss: 0.5529\n",
      "Epoch 335/500\n",
      "1/1 [==============================] - 0s 4ms/step - loss: 9.7039 - dense_3_loss: 9.1510 - dense_4_loss: 0.5529\n",
      "Epoch 336/500\n",
      "1/1 [==============================] - 0s 4ms/step - loss: 9.7036 - dense_3_loss: 9.1508 - dense_4_loss: 0.5529\n",
      "Epoch 337/500\n",
      "1/1 [==============================] - 0s 3ms/step - loss: 9.7034 - dense_3_loss: 9.1505 - dense_4_loss: 0.5529\n",
      "Epoch 338/500\n",
      "1/1 [==============================] - 0s 4ms/step - loss: 9.7032 - dense_3_loss: 9.1503 - dense_4_loss: 0.5529\n",
      "Epoch 339/500\n",
      "1/1 [==============================] - 0s 4ms/step - loss: 9.7029 - dense_3_loss: 9.1501 - dense_4_loss: 0.5529\n",
      "Epoch 340/500\n",
      "1/1 [==============================] - 0s 5ms/step - loss: 9.7027 - dense_3_loss: 9.1499 - dense_4_loss: 0.5529\n",
      "Epoch 341/500\n",
      "1/1 [==============================] - 0s 7ms/step - loss: 9.7025 - dense_3_loss: 9.1497 - dense_4_loss: 0.5529\n",
      "Epoch 342/500\n",
      "1/1 [==============================] - 0s 4ms/step - loss: 9.7024 - dense_3_loss: 9.1495 - dense_4_loss: 0.5529\n",
      "Epoch 343/500\n",
      "1/1 [==============================] - 0s 4ms/step - loss: 9.7022 - dense_3_loss: 9.1493 - dense_4_loss: 0.5529\n",
      "Epoch 344/500\n",
      "1/1 [==============================] - 0s 8ms/step - loss: 9.7020 - dense_3_loss: 9.1491 - dense_4_loss: 0.5529\n",
      "Epoch 345/500\n",
      "1/1 [==============================] - 0s 7ms/step - loss: 9.7018 - dense_3_loss: 9.1490 - dense_4_loss: 0.5529\n",
      "Epoch 346/500\n",
      "1/1 [==============================] - 0s 6ms/step - loss: 9.7017 - dense_3_loss: 9.1488 - dense_4_loss: 0.5529\n",
      "Epoch 347/500\n",
      "1/1 [==============================] - 0s 5ms/step - loss: 9.7015 - dense_3_loss: 9.1486 - dense_4_loss: 0.5529\n",
      "Epoch 348/500\n",
      "1/1 [==============================] - 0s 4ms/step - loss: 9.7013 - dense_3_loss: 9.1485 - dense_4_loss: 0.5529\n",
      "Epoch 349/500\n",
      "1/1 [==============================] - 0s 7ms/step - loss: 9.7012 - dense_3_loss: 9.1483 - dense_4_loss: 0.5529\n",
      "Epoch 350/500\n",
      "1/1 [==============================] - 0s 4ms/step - loss: 9.7010 - dense_3_loss: 9.1481 - dense_4_loss: 0.5529\n",
      "Epoch 351/500\n",
      "1/1 [==============================] - 0s 5ms/step - loss: 9.7008 - dense_3_loss: 9.1480 - dense_4_loss: 0.5529\n",
      "Epoch 352/500\n",
      "1/1 [==============================] - 0s 3ms/step - loss: 9.7007 - dense_3_loss: 9.1478 - dense_4_loss: 0.5529\n",
      "Epoch 353/500\n",
      "1/1 [==============================] - 0s 3ms/step - loss: 9.7005 - dense_3_loss: 9.1477 - dense_4_loss: 0.5529\n",
      "Epoch 354/500\n",
      "1/1 [==============================] - 0s 7ms/step - loss: 9.7004 - dense_3_loss: 9.1475 - dense_4_loss: 0.5529\n",
      "Epoch 355/500\n",
      "1/1 [==============================] - 0s 5ms/step - loss: 9.7003 - dense_3_loss: 9.1474 - dense_4_loss: 0.5529\n",
      "Epoch 356/500\n",
      "1/1 [==============================] - 0s 6ms/step - loss: 9.7001 - dense_3_loss: 9.1473 - dense_4_loss: 0.5529\n",
      "Epoch 357/500\n",
      "1/1 [==============================] - 0s 4ms/step - loss: 9.7000 - dense_3_loss: 9.1471 - dense_4_loss: 0.5529\n",
      "Epoch 358/500\n",
      "1/1 [==============================] - 0s 4ms/step - loss: 9.6999 - dense_3_loss: 9.1470 - dense_4_loss: 0.5529\n",
      "Epoch 359/500\n",
      "1/1 [==============================] - 0s 3ms/step - loss: 9.6997 - dense_3_loss: 9.1469 - dense_4_loss: 0.5529\n",
      "Epoch 360/500\n",
      "1/1 [==============================] - 0s 4ms/step - loss: 9.6996 - dense_3_loss: 9.1468 - dense_4_loss: 0.5529\n",
      "Epoch 361/500\n",
      "1/1 [==============================] - 0s 5ms/step - loss: 9.6995 - dense_3_loss: 9.1466 - dense_4_loss: 0.5529\n",
      "Epoch 362/500\n",
      "1/1 [==============================] - 0s 7ms/step - loss: 9.6994 - dense_3_loss: 9.1465 - dense_4_loss: 0.5529\n",
      "Epoch 363/500\n",
      "1/1 [==============================] - 0s 5ms/step - loss: 9.6993 - dense_3_loss: 9.1464 - dense_4_loss: 0.5529\n",
      "Epoch 364/500\n",
      "1/1 [==============================] - 0s 6ms/step - loss: 9.6992 - dense_3_loss: 9.1464 - dense_4_loss: 0.5529\n",
      "Epoch 365/500\n",
      "1/1 [==============================] - 0s 4ms/step - loss: 9.6991 - dense_3_loss: 9.1463 - dense_4_loss: 0.5529\n",
      "Epoch 366/500\n",
      "1/1 [==============================] - 0s 4ms/step - loss: 9.6990 - dense_3_loss: 9.1462 - dense_4_loss: 0.5529\n",
      "Epoch 367/500\n",
      "1/1 [==============================] - 0s 5ms/step - loss: 9.6990 - dense_3_loss: 9.1461 - dense_4_loss: 0.5529\n",
      "Epoch 368/500\n",
      "1/1 [==============================] - 0s 3ms/step - loss: 9.6989 - dense_3_loss: 9.1460 - dense_4_loss: 0.5529\n",
      "Epoch 369/500\n",
      "1/1 [==============================] - 0s 3ms/step - loss: 9.6988 - dense_3_loss: 9.1459 - dense_4_loss: 0.5529\n",
      "Epoch 370/500\n",
      "1/1 [==============================] - 0s 3ms/step - loss: 9.6987 - dense_3_loss: 9.1458 - dense_4_loss: 0.5529\n",
      "Epoch 371/500\n",
      "1/1 [==============================] - 0s 3ms/step - loss: 9.6986 - dense_3_loss: 9.1458 - dense_4_loss: 0.5529\n",
      "Epoch 372/500\n",
      "1/1 [==============================] - 0s 4ms/step - loss: 9.6985 - dense_3_loss: 9.1457 - dense_4_loss: 0.5529\n",
      "Epoch 373/500\n",
      "1/1 [==============================] - 0s 4ms/step - loss: 9.6985 - dense_3_loss: 9.1456 - dense_4_loss: 0.5529\n",
      "Epoch 374/500\n",
      "1/1 [==============================] - 0s 4ms/step - loss: 9.6984 - dense_3_loss: 9.1455 - dense_4_loss: 0.5529\n",
      "Epoch 375/500\n",
      "1/1 [==============================] - 0s 5ms/step - loss: 9.6983 - dense_3_loss: 9.1454 - dense_4_loss: 0.5529\n",
      "Epoch 376/500\n",
      "1/1 [==============================] - 0s 4ms/step - loss: 9.6982 - dense_3_loss: 9.1454 - dense_4_loss: 0.5529\n",
      "Epoch 377/500\n",
      "1/1 [==============================] - 0s 4ms/step - loss: 9.6981 - dense_3_loss: 9.1453 - dense_4_loss: 0.5529\n",
      "Epoch 378/500\n",
      "1/1 [==============================] - 0s 3ms/step - loss: 9.6981 - dense_3_loss: 9.1452 - dense_4_loss: 0.5529\n",
      "Epoch 379/500\n",
      "1/1 [==============================] - 0s 3ms/step - loss: 9.6980 - dense_3_loss: 9.1451 - dense_4_loss: 0.5529\n",
      "Epoch 380/500\n",
      "1/1 [==============================] - 0s 5ms/step - loss: 9.6979 - dense_3_loss: 9.1450 - dense_4_loss: 0.5529\n",
      "Epoch 381/500\n",
      "1/1 [==============================] - 0s 4ms/step - loss: 9.6978 - dense_3_loss: 9.1450 - dense_4_loss: 0.5529\n",
      "Epoch 382/500\n",
      "1/1 [==============================] - 0s 5ms/step - loss: 9.6977 - dense_3_loss: 9.1449 - dense_4_loss: 0.5529\n",
      "Epoch 383/500\n",
      "1/1 [==============================] - 0s 7ms/step - loss: 9.6977 - dense_3_loss: 9.1448 - dense_4_loss: 0.5529\n",
      "Epoch 384/500\n",
      "1/1 [==============================] - 0s 5ms/step - loss: 9.6976 - dense_3_loss: 9.1447 - dense_4_loss: 0.5529\n",
      "Epoch 385/500\n",
      "1/1 [==============================] - 0s 3ms/step - loss: 9.6976 - dense_3_loss: 9.1447 - dense_4_loss: 0.5529\n",
      "Epoch 386/500\n",
      "1/1 [==============================] - 0s 5ms/step - loss: 9.6975 - dense_3_loss: 9.1446 - dense_4_loss: 0.5529\n",
      "Epoch 387/500\n",
      "1/1 [==============================] - 0s 3ms/step - loss: 9.6975 - dense_3_loss: 9.1446 - dense_4_loss: 0.5529\n",
      "Epoch 388/500\n"
     ]
    },
    {
     "name": "stdout",
     "output_type": "stream",
     "text": [
      "1/1 [==============================] - 0s 5ms/step - loss: 9.6974 - dense_3_loss: 9.1446 - dense_4_loss: 0.5529\n",
      "Epoch 389/500\n",
      "1/1 [==============================] - 0s 4ms/step - loss: 9.6974 - dense_3_loss: 9.1445 - dense_4_loss: 0.5529\n",
      "Epoch 390/500\n",
      "1/1 [==============================] - 0s 5ms/step - loss: 9.6974 - dense_3_loss: 9.1445 - dense_4_loss: 0.5529\n",
      "Epoch 391/500\n",
      "1/1 [==============================] - 0s 5ms/step - loss: 9.6974 - dense_3_loss: 9.1445 - dense_4_loss: 0.5529\n",
      "Epoch 392/500\n",
      "1/1 [==============================] - 0s 6ms/step - loss: 9.6973 - dense_3_loss: 9.1445 - dense_4_loss: 0.5529\n",
      "Epoch 393/500\n",
      "1/1 [==============================] - 0s 4ms/step - loss: 9.6973 - dense_3_loss: 9.1444 - dense_4_loss: 0.5529\n",
      "Epoch 394/500\n",
      "1/1 [==============================] - 0s 4ms/step - loss: 9.6973 - dense_3_loss: 9.1444 - dense_4_loss: 0.5529\n",
      "Epoch 395/500\n",
      "1/1 [==============================] - 0s 4ms/step - loss: 9.6973 - dense_3_loss: 9.1444 - dense_4_loss: 0.5529\n",
      "Epoch 396/500\n",
      "1/1 [==============================] - 0s 5ms/step - loss: 9.6972 - dense_3_loss: 9.1444 - dense_4_loss: 0.5529\n",
      "Epoch 397/500\n",
      "1/1 [==============================] - 0s 5ms/step - loss: 9.6972 - dense_3_loss: 9.1444 - dense_4_loss: 0.5529\n",
      "Epoch 398/500\n",
      "1/1 [==============================] - 0s 4ms/step - loss: 9.6972 - dense_3_loss: 9.1443 - dense_4_loss: 0.5529\n",
      "Epoch 399/500\n",
      "1/1 [==============================] - 0s 7ms/step - loss: 9.6972 - dense_3_loss: 9.1443 - dense_4_loss: 0.5529\n",
      "Epoch 400/500\n",
      "1/1 [==============================] - 0s 3ms/step - loss: 9.6972 - dense_3_loss: 9.1443 - dense_4_loss: 0.5529\n",
      "Epoch 401/500\n",
      "1/1 [==============================] - 0s 7ms/step - loss: 9.6971 - dense_3_loss: 9.1443 - dense_4_loss: 0.5529\n",
      "Epoch 402/500\n",
      "1/1 [==============================] - 0s 5ms/step - loss: 9.6971 - dense_3_loss: 9.1443 - dense_4_loss: 0.5529\n",
      "Epoch 403/500\n",
      "1/1 [==============================] - 0s 6ms/step - loss: 9.6971 - dense_3_loss: 9.1443 - dense_4_loss: 0.5529\n",
      "Epoch 404/500\n",
      "1/1 [==============================] - 0s 6ms/step - loss: 9.6971 - dense_3_loss: 9.1442 - dense_4_loss: 0.5529\n",
      "Epoch 405/500\n",
      "1/1 [==============================] - 0s 6ms/step - loss: 9.6971 - dense_3_loss: 9.1442 - dense_4_loss: 0.5529\n",
      "Epoch 406/500\n",
      "1/1 [==============================] - 0s 4ms/step - loss: 9.6971 - dense_3_loss: 9.1442 - dense_4_loss: 0.5529\n",
      "Epoch 407/500\n",
      "1/1 [==============================] - 0s 3ms/step - loss: 9.6971 - dense_3_loss: 9.1442 - dense_4_loss: 0.5529\n",
      "Epoch 408/500\n",
      "1/1 [==============================] - 0s 2ms/step - loss: 9.6970 - dense_3_loss: 9.1442 - dense_4_loss: 0.5529\n",
      "Epoch 409/500\n",
      "1/1 [==============================] - 0s 6ms/step - loss: 9.6970 - dense_3_loss: 9.1442 - dense_4_loss: 0.5529\n",
      "Epoch 410/500\n",
      "1/1 [==============================] - 0s 5ms/step - loss: 9.6970 - dense_3_loss: 9.1442 - dense_4_loss: 0.5529\n",
      "Epoch 411/500\n",
      "1/1 [==============================] - 0s 6ms/step - loss: 9.6970 - dense_3_loss: 9.1442 - dense_4_loss: 0.5529\n",
      "Epoch 412/500\n",
      "1/1 [==============================] - 0s 4ms/step - loss: 9.6970 - dense_3_loss: 9.1442 - dense_4_loss: 0.5529\n",
      "Epoch 413/500\n",
      "1/1 [==============================] - 0s 4ms/step - loss: 9.6970 - dense_3_loss: 9.1442 - dense_4_loss: 0.5529\n",
      "Epoch 414/500\n",
      "1/1 [==============================] - 0s 4ms/step - loss: 9.6970 - dense_3_loss: 9.1442 - dense_4_loss: 0.5529\n",
      "Epoch 415/500\n",
      "1/1 [==============================] - 0s 5ms/step - loss: 9.6970 - dense_3_loss: 9.1442 - dense_4_loss: 0.5529\n",
      "Epoch 416/500\n",
      "1/1 [==============================] - 0s 4ms/step - loss: 9.6970 - dense_3_loss: 9.1442 - dense_4_loss: 0.5529\n",
      "Epoch 417/500\n",
      "1/1 [==============================] - 0s 4ms/step - loss: 9.6970 - dense_3_loss: 9.1442 - dense_4_loss: 0.5529\n",
      "Epoch 418/500\n",
      "1/1 [==============================] - 0s 5ms/step - loss: 9.6970 - dense_3_loss: 9.1442 - dense_4_loss: 0.5529\n",
      "Epoch 419/500\n",
      "1/1 [==============================] - 0s 5ms/step - loss: 9.6970 - dense_3_loss: 9.1441 - dense_4_loss: 0.5529\n",
      "Epoch 420/500\n",
      "1/1 [==============================] - 0s 5ms/step - loss: 9.6970 - dense_3_loss: 9.1441 - dense_4_loss: 0.5529\n",
      "Epoch 421/500\n",
      "1/1 [==============================] - 0s 4ms/step - loss: 9.6970 - dense_3_loss: 9.1441 - dense_4_loss: 0.5529\n",
      "Epoch 422/500\n",
      "1/1 [==============================] - 0s 5ms/step - loss: 9.6970 - dense_3_loss: 9.1441 - dense_4_loss: 0.5529\n",
      "Epoch 423/500\n",
      "1/1 [==============================] - 0s 3ms/step - loss: 9.6970 - dense_3_loss: 9.1441 - dense_4_loss: 0.5529\n",
      "Epoch 424/500\n",
      "1/1 [==============================] - 0s 5ms/step - loss: 9.6970 - dense_3_loss: 9.1441 - dense_4_loss: 0.5529\n",
      "Epoch 425/500\n",
      "1/1 [==============================] - 0s 7ms/step - loss: 9.6970 - dense_3_loss: 9.1441 - dense_4_loss: 0.5529\n",
      "Epoch 426/500\n",
      "1/1 [==============================] - 0s 5ms/step - loss: 9.6970 - dense_3_loss: 9.1441 - dense_4_loss: 0.5529\n",
      "Epoch 427/500\n",
      "1/1 [==============================] - 0s 3ms/step - loss: 9.6970 - dense_3_loss: 9.1441 - dense_4_loss: 0.5529\n",
      "Epoch 428/500\n",
      "1/1 [==============================] - 0s 3ms/step - loss: 9.6970 - dense_3_loss: 9.1441 - dense_4_loss: 0.5529\n",
      "Epoch 429/500\n",
      "1/1 [==============================] - 0s 5ms/step - loss: 9.6970 - dense_3_loss: 9.1441 - dense_4_loss: 0.5529\n",
      "Epoch 430/500\n",
      "1/1 [==============================] - 0s 3ms/step - loss: 9.6970 - dense_3_loss: 9.1441 - dense_4_loss: 0.5529\n",
      "Epoch 431/500\n",
      "1/1 [==============================] - 0s 4ms/step - loss: 9.6970 - dense_3_loss: 9.1441 - dense_4_loss: 0.5529\n",
      "Epoch 432/500\n",
      "1/1 [==============================] - 0s 5ms/step - loss: 9.6970 - dense_3_loss: 9.1441 - dense_4_loss: 0.5529\n",
      "Epoch 433/500\n",
      "1/1 [==============================] - 0s 6ms/step - loss: 9.6970 - dense_3_loss: 9.1441 - dense_4_loss: 0.5529\n",
      "Epoch 434/500\n",
      "1/1 [==============================] - 0s 4ms/step - loss: 9.6970 - dense_3_loss: 9.1441 - dense_4_loss: 0.5529\n",
      "Epoch 435/500\n",
      "1/1 [==============================] - 0s 5ms/step - loss: 9.6970 - dense_3_loss: 9.1441 - dense_4_loss: 0.5529\n",
      "Epoch 436/500\n",
      "1/1 [==============================] - 0s 4ms/step - loss: 9.6970 - dense_3_loss: 9.1441 - dense_4_loss: 0.5529\n",
      "Epoch 437/500\n",
      "1/1 [==============================] - 0s 4ms/step - loss: 9.6970 - dense_3_loss: 9.1441 - dense_4_loss: 0.5529\n",
      "Epoch 438/500\n",
      "1/1 [==============================] - 0s 4ms/step - loss: 9.6970 - dense_3_loss: 9.1441 - dense_4_loss: 0.5529\n",
      "Epoch 439/500\n",
      "1/1 [==============================] - 0s 4ms/step - loss: 9.6970 - dense_3_loss: 9.1441 - dense_4_loss: 0.5529\n",
      "Epoch 440/500\n",
      "1/1 [==============================] - 0s 4ms/step - loss: 9.6970 - dense_3_loss: 9.1441 - dense_4_loss: 0.5529\n",
      "Epoch 441/500\n",
      "1/1 [==============================] - 0s 3ms/step - loss: 9.6970 - dense_3_loss: 9.1441 - dense_4_loss: 0.5529\n",
      "Epoch 442/500\n",
      "1/1 [==============================] - 0s 3ms/step - loss: 9.6970 - dense_3_loss: 9.1441 - dense_4_loss: 0.5529\n",
      "Epoch 443/500\n",
      "1/1 [==============================] - 0s 4ms/step - loss: 9.6970 - dense_3_loss: 9.1441 - dense_4_loss: 0.5529\n",
      "Epoch 444/500\n",
      "1/1 [==============================] - 0s 6ms/step - loss: 9.6970 - dense_3_loss: 9.1441 - dense_4_loss: 0.5529\n",
      "Epoch 445/500\n",
      "1/1 [==============================] - 0s 4ms/step - loss: 9.6970 - dense_3_loss: 9.1441 - dense_4_loss: 0.5529\n",
      "Epoch 446/500\n",
      "1/1 [==============================] - 0s 4ms/step - loss: 9.6970 - dense_3_loss: 9.1441 - dense_4_loss: 0.5529\n",
      "Epoch 447/500\n",
      "1/1 [==============================] - 0s 5ms/step - loss: 9.6970 - dense_3_loss: 9.1441 - dense_4_loss: 0.5529\n",
      "Epoch 448/500\n",
      "1/1 [==============================] - 0s 4ms/step - loss: 9.6970 - dense_3_loss: 9.1441 - dense_4_loss: 0.5529\n",
      "Epoch 449/500\n",
      "1/1 [==============================] - 0s 5ms/step - loss: 9.6970 - dense_3_loss: 9.1441 - dense_4_loss: 0.5529\n",
      "Epoch 450/500\n",
      "1/1 [==============================] - 0s 4ms/step - loss: 9.6969 - dense_3_loss: 9.1441 - dense_4_loss: 0.5529\n",
      "Epoch 451/500\n",
      "1/1 [==============================] - 0s 5ms/step - loss: 9.6969 - dense_3_loss: 9.1441 - dense_4_loss: 0.5529\n",
      "Epoch 452/500\n",
      "1/1 [==============================] - 0s 4ms/step - loss: 9.6969 - dense_3_loss: 9.1441 - dense_4_loss: 0.5529\n",
      "Epoch 453/500\n"
     ]
    },
    {
     "name": "stdout",
     "output_type": "stream",
     "text": [
      "1/1 [==============================] - 0s 5ms/step - loss: 9.6969 - dense_3_loss: 9.1441 - dense_4_loss: 0.5529\n",
      "Epoch 454/500\n",
      "1/1 [==============================] - 0s 3ms/step - loss: 9.6969 - dense_3_loss: 9.1441 - dense_4_loss: 0.5529\n",
      "Epoch 455/500\n",
      "1/1 [==============================] - 0s 8ms/step - loss: 9.6969 - dense_3_loss: 9.1441 - dense_4_loss: 0.5529\n",
      "Epoch 456/500\n",
      "1/1 [==============================] - 0s 3ms/step - loss: 9.6969 - dense_3_loss: 9.1441 - dense_4_loss: 0.5529\n",
      "Epoch 457/500\n",
      "1/1 [==============================] - 0s 3ms/step - loss: 9.6969 - dense_3_loss: 9.1441 - dense_4_loss: 0.5529\n",
      "Epoch 458/500\n",
      "1/1 [==============================] - 0s 4ms/step - loss: 9.6969 - dense_3_loss: 9.1441 - dense_4_loss: 0.5529\n",
      "Epoch 459/500\n",
      "1/1 [==============================] - 0s 4ms/step - loss: 9.6969 - dense_3_loss: 9.1441 - dense_4_loss: 0.5529\n",
      "Epoch 460/500\n",
      "1/1 [==============================] - 0s 7ms/step - loss: 9.6969 - dense_3_loss: 9.1441 - dense_4_loss: 0.5529\n",
      "Epoch 461/500\n",
      "1/1 [==============================] - 0s 4ms/step - loss: 9.6969 - dense_3_loss: 9.1441 - dense_4_loss: 0.5529\n",
      "Epoch 462/500\n",
      "1/1 [==============================] - 0s 5ms/step - loss: 9.6969 - dense_3_loss: 9.1441 - dense_4_loss: 0.5529\n",
      "Epoch 463/500\n",
      "1/1 [==============================] - 0s 7ms/step - loss: 9.6969 - dense_3_loss: 9.1441 - dense_4_loss: 0.5529\n",
      "Epoch 464/500\n",
      "1/1 [==============================] - 0s 7ms/step - loss: 9.6969 - dense_3_loss: 9.1441 - dense_4_loss: 0.5529\n",
      "Epoch 465/500\n",
      "1/1 [==============================] - 0s 4ms/step - loss: 9.6969 - dense_3_loss: 9.1441 - dense_4_loss: 0.5529\n",
      "Epoch 466/500\n",
      "1/1 [==============================] - 0s 3ms/step - loss: 9.6969 - dense_3_loss: 9.1440 - dense_4_loss: 0.5529\n",
      "Epoch 467/500\n",
      "1/1 [==============================] - 0s 4ms/step - loss: 9.6969 - dense_3_loss: 9.1440 - dense_4_loss: 0.5529\n",
      "Epoch 468/500\n",
      "1/1 [==============================] - 0s 2ms/step - loss: 9.6969 - dense_3_loss: 9.1440 - dense_4_loss: 0.5529\n",
      "Epoch 469/500\n",
      "1/1 [==============================] - 0s 4ms/step - loss: 9.6969 - dense_3_loss: 9.1440 - dense_4_loss: 0.5529\n",
      "Epoch 470/500\n",
      "1/1 [==============================] - 0s 3ms/step - loss: 9.6969 - dense_3_loss: 9.1440 - dense_4_loss: 0.5529\n",
      "Epoch 471/500\n",
      "1/1 [==============================] - 0s 3ms/step - loss: 9.6969 - dense_3_loss: 9.1440 - dense_4_loss: 0.5529\n",
      "Epoch 472/500\n",
      "1/1 [==============================] - 0s 4ms/step - loss: 9.6969 - dense_3_loss: 9.1440 - dense_4_loss: 0.5529\n",
      "Epoch 473/500\n",
      "1/1 [==============================] - 0s 3ms/step - loss: 9.6969 - dense_3_loss: 9.1440 - dense_4_loss: 0.5529\n",
      "Epoch 474/500\n",
      "1/1 [==============================] - 0s 4ms/step - loss: 9.6969 - dense_3_loss: 9.1440 - dense_4_loss: 0.5529\n",
      "Epoch 475/500\n",
      "1/1 [==============================] - 0s 3ms/step - loss: 9.6969 - dense_3_loss: 9.1440 - dense_4_loss: 0.5529\n",
      "Epoch 476/500\n",
      "1/1 [==============================] - 0s 2ms/step - loss: 9.6969 - dense_3_loss: 9.1440 - dense_4_loss: 0.5529\n",
      "Epoch 477/500\n",
      "1/1 [==============================] - 0s 4ms/step - loss: 9.6969 - dense_3_loss: 9.1440 - dense_4_loss: 0.5529\n",
      "Epoch 478/500\n",
      "1/1 [==============================] - 0s 3ms/step - loss: 9.6969 - dense_3_loss: 9.1440 - dense_4_loss: 0.5529\n",
      "Epoch 479/500\n",
      "1/1 [==============================] - 0s 3ms/step - loss: 9.6969 - dense_3_loss: 9.1440 - dense_4_loss: 0.5529\n",
      "Epoch 480/500\n",
      "1/1 [==============================] - 0s 3ms/step - loss: 9.6969 - dense_3_loss: 9.1440 - dense_4_loss: 0.5529\n",
      "Epoch 481/500\n",
      "1/1 [==============================] - 0s 3ms/step - loss: 9.6969 - dense_3_loss: 9.1440 - dense_4_loss: 0.5529\n",
      "Epoch 482/500\n",
      "1/1 [==============================] - 0s 4ms/step - loss: 9.6969 - dense_3_loss: 9.1440 - dense_4_loss: 0.5529\n",
      "Epoch 483/500\n",
      "1/1 [==============================] - 0s 7ms/step - loss: 9.6969 - dense_3_loss: 9.1440 - dense_4_loss: 0.5529\n",
      "Epoch 484/500\n",
      "1/1 [==============================] - 0s 3ms/step - loss: 9.6969 - dense_3_loss: 9.1440 - dense_4_loss: 0.5529\n",
      "Epoch 485/500\n",
      "1/1 [==============================] - 0s 5ms/step - loss: 9.6969 - dense_3_loss: 9.1440 - dense_4_loss: 0.5529\n",
      "Epoch 486/500\n",
      "1/1 [==============================] - 0s 5ms/step - loss: 9.6969 - dense_3_loss: 9.1440 - dense_4_loss: 0.5529\n",
      "Epoch 487/500\n",
      "1/1 [==============================] - 0s 5ms/step - loss: 9.6969 - dense_3_loss: 9.1440 - dense_4_loss: 0.5529\n",
      "Epoch 488/500\n",
      "1/1 [==============================] - 0s 5ms/step - loss: 9.6969 - dense_3_loss: 9.1440 - dense_4_loss: 0.5529\n",
      "Epoch 489/500\n",
      "1/1 [==============================] - 0s 4ms/step - loss: 9.6969 - dense_3_loss: 9.1440 - dense_4_loss: 0.5529\n",
      "Epoch 490/500\n",
      "1/1 [==============================] - 0s 6ms/step - loss: 9.6969 - dense_3_loss: 9.1440 - dense_4_loss: 0.5529\n",
      "Epoch 491/500\n",
      "1/1 [==============================] - 0s 4ms/step - loss: 9.6969 - dense_3_loss: 9.1440 - dense_4_loss: 0.5529\n",
      "Epoch 492/500\n",
      "1/1 [==============================] - 0s 6ms/step - loss: 9.6969 - dense_3_loss: 9.1440 - dense_4_loss: 0.5529\n",
      "Epoch 493/500\n",
      "1/1 [==============================] - 0s 6ms/step - loss: 9.6969 - dense_3_loss: 9.1440 - dense_4_loss: 0.5529\n",
      "Epoch 494/500\n",
      "1/1 [==============================] - 0s 5ms/step - loss: 9.6969 - dense_3_loss: 9.1440 - dense_4_loss: 0.5529\n",
      "Epoch 495/500\n",
      "1/1 [==============================] - 0s 3ms/step - loss: 9.6969 - dense_3_loss: 9.1440 - dense_4_loss: 0.5529\n",
      "Epoch 496/500\n",
      "1/1 [==============================] - 0s 5ms/step - loss: 9.6969 - dense_3_loss: 9.1440 - dense_4_loss: 0.5529\n",
      "Epoch 497/500\n",
      "1/1 [==============================] - 0s 2ms/step - loss: 9.6969 - dense_3_loss: 9.1440 - dense_4_loss: 0.5529\n",
      "Epoch 498/500\n",
      "1/1 [==============================] - 0s 4ms/step - loss: 9.6968 - dense_3_loss: 9.1440 - dense_4_loss: 0.5529\n",
      "Epoch 499/500\n",
      "1/1 [==============================] - 0s 3ms/step - loss: 9.6968 - dense_3_loss: 9.1440 - dense_4_loss: 0.5529\n",
      "Epoch 500/500\n",
      "1/1 [==============================] - 0s 5ms/step - loss: 9.6968 - dense_3_loss: 9.1440 - dense_4_loss: 0.5529\n"
     ]
    },
    {
     "data": {
      "text/plain": [
       "<tensorflow.python.keras.callbacks.History at 0x1b6818a2588>"
      ]
     },
     "execution_count": 28,
     "metadata": {},
     "output_type": "execute_result"
    }
   ],
   "source": [
    "# Import the Adam optimizer\n",
    "from keras.optimizers import Adam\n",
    "\n",
    "# Compile the model with 2 losses and the Adam optimzer with a higher learning rate\n",
    "model.compile(loss=['mean_absolute_error',\n",
    "                    'binary_crossentropy'], optimizer=Adam(.01))\n",
    "\n",
    "# Fit the model to the tournament training data, with 2 inputs and 2 outputs\n",
    "model.fit(games_tourney_train[['seed_diff', 'pred']],\n",
    "          [games_tourney_train[['score_diff']], games_tourney_train[['won']]],\n",
    "          epochs=500,\n",
    "          verbose=True,\n",
    "          batch_size=16384)"
   ]
  },
  {
   "cell_type": "code",
   "execution_count": 29,
   "metadata": {
    "ExecuteTime": {
     "end_time": "2020-06-28T12:33:59.110582Z",
     "start_time": "2020-06-28T12:33:59.087459Z"
    }
   },
   "outputs": [
    {
     "name": "stdout",
     "output_type": "stream",
     "text": [
      "[array([[1.1635586 ],\n",
      "       [0.40233317]], dtype=float32), array([[0.14426836]], dtype=float32)]\n",
      "home           0.000000\n",
      "seed_diff      0.000000\n",
      "score_1       71.131318\n",
      "score_2       71.131318\n",
      "score_diff     0.000000\n",
      "won            0.500000\n",
      "pred           0.228627\n",
      "dtype: float64\n"
     ]
    }
   ],
   "source": [
    "# Print the model weights\n",
    "print(model.get_weights())\n",
    "\n",
    "# Print the training data means\n",
    "print(games_tourney_train.mean())"
   ]
  },
  {
   "cell_type": "code",
   "execution_count": 30,
   "metadata": {
    "ExecuteTime": {
     "end_time": "2020-06-28T12:33:59.130811Z",
     "start_time": "2020-06-28T12:33:59.118014Z"
    }
   },
   "outputs": [
    {
     "name": "stdout",
     "output_type": "stream",
     "text": [
      "0.5349429451582145\n",
      "0.8021838885585818\n"
     ]
    }
   ],
   "source": [
    "# Weight from the model\n",
    "weight = 0.14\n",
    "\n",
    "# Print the approximate win probability of a predicted close game\n",
    "print(sigmoid(1 * weight))\n",
    "\n",
    "# Print the approximate win probability of a predicted blowout game\n",
    "print(sigmoid(10 * weight))"
   ]
  },
  {
   "cell_type": "code",
   "execution_count": 31,
   "metadata": {
    "ExecuteTime": {
     "end_time": "2020-06-28T12:33:59.917562Z",
     "start_time": "2020-06-28T12:33:59.137849Z"
    }
   },
   "outputs": [
    {
     "name": "stdout",
     "output_type": "stream",
     "text": [
      "[9.696845054626465, 9.143974304199219, 0.5528696179389954]\n"
     ]
    }
   ],
   "source": [
    "print(model.evaluate(games_tourney_test[['seed_diff', 'pred']],\n",
    "                     [games_tourney_test[['score_diff']], games_tourney_test[['won']]], verbose=False))"
   ]
  },
  {
   "cell_type": "markdown",
   "metadata": {},
   "source": [
    "## Conclusion"
   ]
  },
  {
   "cell_type": "markdown",
   "metadata": {},
   "source": [
    "* 9.7 = Loss function used by the model, which is sum of all output losses\n",
    "\n",
    "\n",
    "* 9.14 = Loss for regression part of the model, Therefore, this model has a mean absolute error of 9.14\n",
    "\n",
    "\n",
    "* 0.55 = Loss for classification part of the model, Logloss of 0.58"
   ]
  },
  {
   "cell_type": "code",
   "execution_count": null,
   "metadata": {},
   "outputs": [],
   "source": []
  }
 ],
 "metadata": {
  "hide_input": false,
  "kernelspec": {
   "display_name": "Python 3",
   "language": "python",
   "name": "python3"
  },
  "language_info": {
   "codemirror_mode": {
    "name": "ipython",
    "version": 3
   },
   "file_extension": ".py",
   "mimetype": "text/x-python",
   "name": "python",
   "nbconvert_exporter": "python",
   "pygments_lexer": "ipython3",
   "version": "3.7.4"
  },
  "toc": {
   "base_numbering": 1,
   "nav_menu": {},
   "number_sections": true,
   "sideBar": true,
   "skip_h1_title": false,
   "title_cell": "Table of Contents",
   "title_sidebar": "Contents",
   "toc_cell": false,
   "toc_position": {
    "height": "calc(100% - 180px)",
    "left": "10px",
    "top": "150px",
    "width": "307.2px"
   },
   "toc_section_display": true,
   "toc_window_display": true
  },
  "varInspector": {
   "cols": {
    "lenName": 16,
    "lenType": 16,
    "lenVar": 40
   },
   "kernels_config": {
    "python": {
     "delete_cmd_postfix": "",
     "delete_cmd_prefix": "del ",
     "library": "var_list.py",
     "varRefreshCmd": "print(var_dic_list())"
    },
    "r": {
     "delete_cmd_postfix": ") ",
     "delete_cmd_prefix": "rm(",
     "library": "var_list.r",
     "varRefreshCmd": "cat(var_dic_list()) "
    }
   },
   "position": {
    "height": "144px",
    "left": "1168px",
    "right": "20px",
    "top": "123px",
    "width": "350px"
   },
   "types_to_exclude": [
    "module",
    "function",
    "builtin_function_or_method",
    "instance",
    "_Feature"
   ],
   "window_display": false
  }
 },
 "nbformat": 4,
 "nbformat_minor": 2
}
